{
 "cells": [
  {
   "cell_type": "markdown",
   "id": "d9f44978",
   "metadata": {},
   "source": [
    "# Import Library"
   ]
  },
  {
   "cell_type": "code",
   "execution_count": 1,
   "id": "12a37e02",
   "metadata": {
    "execution": {
     "iopub.execute_input": "2022-04-08T17:42:51.580468Z",
     "iopub.status.busy": "2022-04-08T17:42:51.579488Z",
     "iopub.status.idle": "2022-04-08T17:42:52.563749Z",
     "shell.execute_reply": "2022-04-08T17:42:52.563022Z",
     "shell.execute_reply.started": "2021-11-22T03:35:55.731141Z"
    },
    "executionInfo": {
     "elapsed": 813,
     "status": "ok",
     "timestamp": 1637546418529,
     "user": {
      "displayName": "Harsh Pimpalkar",
      "photoUrl": "https://lh3.googleusercontent.com/a/default-user=s64",
      "userId": "00943371497075099378"
     },
     "user_tz": -330
    },
    "id": "da3qePH_DyMf",
    "papermill": {
     "duration": 1.080348,
     "end_time": "2022-04-08T17:42:52.563946",
     "exception": false,
     "start_time": "2022-04-08T17:42:51.483598",
     "status": "completed"
    },
    "tags": []
   },
   "outputs": [],
   "source": [
    "## import all the dependencies \n",
    "\n",
    "import numpy as np\n",
    "import pandas as pd\n",
    "import matplotlib.pyplot as plt \n",
    "import seaborn as sns\n",
    "import plotly.graph_objs as go\n",
    "import plotly.offline as py\n",
    "\n",
    "%matplotlib inline\n",
    "\n",
    "import warnings \n",
    "warnings.filterwarnings('ignore')"
   ]
  },
  {
   "cell_type": "markdown",
   "id": "4cf0db21",
   "metadata": {
    "id": "wG_hdyPVFRFQ",
    "papermill": {
     "duration": 0.085074,
     "end_time": "2022-04-08T17:42:53.085708",
     "exception": false,
     "start_time": "2022-04-08T17:42:53.000634",
     "status": "completed"
    },
    "tags": []
   },
   "source": [
    "**Load Dataset**"
   ]
  },
  {
   "cell_type": "code",
   "execution_count": 2,
   "id": "01510514",
   "metadata": {
    "execution": {
     "iopub.execute_input": "2022-04-08T17:42:53.264138Z",
     "iopub.status.busy": "2022-04-08T17:42:53.263315Z",
     "iopub.status.idle": "2022-04-08T17:43:04.993195Z",
     "shell.execute_reply": "2022-04-08T17:43:04.992591Z",
     "shell.execute_reply.started": "2021-11-22T03:35:56.077401Z"
    },
    "executionInfo": {
     "elapsed": 4907,
     "status": "ok",
     "timestamp": 1637546425976,
     "user": {
      "displayName": "Harsh Pimpalkar",
      "photoUrl": "https://lh3.googleusercontent.com/a/default-user=s64",
      "userId": "00943371497075099378"
     },
     "user_tz": -330
    },
    "id": "qyZo9mh-E8rd",
    "papermill": {
     "duration": 11.820688,
     "end_time": "2022-04-08T17:43:04.993354",
     "exception": false,
     "start_time": "2022-04-08T17:42:53.172666",
     "status": "completed"
    },
    "tags": []
   },
   "outputs": [],
   "source": [
    "data = pd.read_csv(\"zomato.csv\")"
   ]
  },
  {
   "cell_type": "code",
   "execution_count": 3,
   "id": "aa0ff578",
   "metadata": {
    "execution": {
     "iopub.execute_input": "2022-04-08T17:43:05.170625Z",
     "iopub.status.busy": "2022-04-08T17:43:05.169637Z",
     "iopub.status.idle": "2022-04-08T17:43:05.198362Z",
     "shell.execute_reply": "2022-04-08T17:43:05.198938Z",
     "shell.execute_reply.started": "2021-11-22T03:36:06.345309Z"
    },
    "executionInfo": {
     "elapsed": 73,
     "status": "ok",
     "timestamp": 1637546425979,
     "user": {
      "displayName": "Harsh Pimpalkar",
      "photoUrl": "https://lh3.googleusercontent.com/a/default-user=s64",
      "userId": "00943371497075099378"
     },
     "user_tz": -330
    },
    "id": "nyNz9OHUFcxr",
    "outputId": "9ce19c90-e34a-44e2-e240-17f07304feff",
    "papermill": {
     "duration": 0.119249,
     "end_time": "2022-04-08T17:43:05.199115",
     "exception": false,
     "start_time": "2022-04-08T17:43:05.079866",
     "status": "completed"
    },
    "tags": []
   },
   "outputs": [
    {
     "data": {
      "text/html": [
       "<div>\n",
       "<style scoped>\n",
       "    .dataframe tbody tr th:only-of-type {\n",
       "        vertical-align: middle;\n",
       "    }\n",
       "\n",
       "    .dataframe tbody tr th {\n",
       "        vertical-align: top;\n",
       "    }\n",
       "\n",
       "    .dataframe thead th {\n",
       "        text-align: right;\n",
       "    }\n",
       "</style>\n",
       "<table border=\"1\" class=\"dataframe\">\n",
       "  <thead>\n",
       "    <tr style=\"text-align: right;\">\n",
       "      <th></th>\n",
       "      <th>url</th>\n",
       "      <th>address</th>\n",
       "      <th>name</th>\n",
       "      <th>online_order</th>\n",
       "      <th>book_table</th>\n",
       "      <th>rate</th>\n",
       "      <th>votes</th>\n",
       "      <th>phone</th>\n",
       "      <th>location</th>\n",
       "      <th>rest_type</th>\n",
       "      <th>dish_liked</th>\n",
       "      <th>cuisines</th>\n",
       "      <th>approx_cost(for two people)</th>\n",
       "      <th>reviews_list</th>\n",
       "      <th>menu_item</th>\n",
       "      <th>listed_in(type)</th>\n",
       "      <th>listed_in(city)</th>\n",
       "    </tr>\n",
       "  </thead>\n",
       "  <tbody>\n",
       "    <tr>\n",
       "      <th>0</th>\n",
       "      <td>https://www.zomato.com/bangalore/jalsa-banasha...</td>\n",
       "      <td>942, 21st Main Road, 2nd Stage, Banashankari, ...</td>\n",
       "      <td>Jalsa</td>\n",
       "      <td>Yes</td>\n",
       "      <td>Yes</td>\n",
       "      <td>4.1/5</td>\n",
       "      <td>775</td>\n",
       "      <td>080 42297555\\r\\n+91 9743772233</td>\n",
       "      <td>Banashankari</td>\n",
       "      <td>Casual Dining</td>\n",
       "      <td>Pasta, Lunch Buffet, Masala Papad, Paneer Laja...</td>\n",
       "      <td>North Indian, Mughlai, Chinese</td>\n",
       "      <td>800</td>\n",
       "      <td>[('Rated 4.0', 'RATED\\n  A beautiful place to ...</td>\n",
       "      <td>[]</td>\n",
       "      <td>Buffet</td>\n",
       "      <td>Banashankari</td>\n",
       "    </tr>\n",
       "    <tr>\n",
       "      <th>1</th>\n",
       "      <td>https://www.zomato.com/bangalore/spice-elephan...</td>\n",
       "      <td>2nd Floor, 80 Feet Road, Near Big Bazaar, 6th ...</td>\n",
       "      <td>Spice Elephant</td>\n",
       "      <td>Yes</td>\n",
       "      <td>No</td>\n",
       "      <td>4.1/5</td>\n",
       "      <td>787</td>\n",
       "      <td>080 41714161</td>\n",
       "      <td>Banashankari</td>\n",
       "      <td>Casual Dining</td>\n",
       "      <td>Momos, Lunch Buffet, Chocolate Nirvana, Thai G...</td>\n",
       "      <td>Chinese, North Indian, Thai</td>\n",
       "      <td>800</td>\n",
       "      <td>[('Rated 4.0', 'RATED\\n  Had been here for din...</td>\n",
       "      <td>[]</td>\n",
       "      <td>Buffet</td>\n",
       "      <td>Banashankari</td>\n",
       "    </tr>\n",
       "    <tr>\n",
       "      <th>2</th>\n",
       "      <td>https://www.zomato.com/SanchurroBangalore?cont...</td>\n",
       "      <td>1112, Next to KIMS Medical College, 17th Cross...</td>\n",
       "      <td>San Churro Cafe</td>\n",
       "      <td>Yes</td>\n",
       "      <td>No</td>\n",
       "      <td>3.8/5</td>\n",
       "      <td>918</td>\n",
       "      <td>+91 9663487993</td>\n",
       "      <td>Banashankari</td>\n",
       "      <td>Cafe, Casual Dining</td>\n",
       "      <td>Churros, Cannelloni, Minestrone Soup, Hot Choc...</td>\n",
       "      <td>Cafe, Mexican, Italian</td>\n",
       "      <td>800</td>\n",
       "      <td>[('Rated 3.0', \"RATED\\n  Ambience is not that ...</td>\n",
       "      <td>[]</td>\n",
       "      <td>Buffet</td>\n",
       "      <td>Banashankari</td>\n",
       "    </tr>\n",
       "    <tr>\n",
       "      <th>3</th>\n",
       "      <td>https://www.zomato.com/bangalore/addhuri-udupi...</td>\n",
       "      <td>1st Floor, Annakuteera, 3rd Stage, Banashankar...</td>\n",
       "      <td>Addhuri Udupi Bhojana</td>\n",
       "      <td>No</td>\n",
       "      <td>No</td>\n",
       "      <td>3.7/5</td>\n",
       "      <td>88</td>\n",
       "      <td>+91 9620009302</td>\n",
       "      <td>Banashankari</td>\n",
       "      <td>Quick Bites</td>\n",
       "      <td>Masala Dosa</td>\n",
       "      <td>South Indian, North Indian</td>\n",
       "      <td>300</td>\n",
       "      <td>[('Rated 4.0', \"RATED\\n  Great food and proper...</td>\n",
       "      <td>[]</td>\n",
       "      <td>Buffet</td>\n",
       "      <td>Banashankari</td>\n",
       "    </tr>\n",
       "    <tr>\n",
       "      <th>4</th>\n",
       "      <td>https://www.zomato.com/bangalore/grand-village...</td>\n",
       "      <td>10, 3rd Floor, Lakshmi Associates, Gandhi Baza...</td>\n",
       "      <td>Grand Village</td>\n",
       "      <td>No</td>\n",
       "      <td>No</td>\n",
       "      <td>3.8/5</td>\n",
       "      <td>166</td>\n",
       "      <td>+91 8026612447\\r\\n+91 9901210005</td>\n",
       "      <td>Basavanagudi</td>\n",
       "      <td>Casual Dining</td>\n",
       "      <td>Panipuri, Gol Gappe</td>\n",
       "      <td>North Indian, Rajasthani</td>\n",
       "      <td>600</td>\n",
       "      <td>[('Rated 4.0', 'RATED\\n  Very good restaurant ...</td>\n",
       "      <td>[]</td>\n",
       "      <td>Buffet</td>\n",
       "      <td>Banashankari</td>\n",
       "    </tr>\n",
       "  </tbody>\n",
       "</table>\n",
       "</div>"
      ],
      "text/plain": [
       "                                                 url  \\\n",
       "0  https://www.zomato.com/bangalore/jalsa-banasha...   \n",
       "1  https://www.zomato.com/bangalore/spice-elephan...   \n",
       "2  https://www.zomato.com/SanchurroBangalore?cont...   \n",
       "3  https://www.zomato.com/bangalore/addhuri-udupi...   \n",
       "4  https://www.zomato.com/bangalore/grand-village...   \n",
       "\n",
       "                                             address                   name  \\\n",
       "0  942, 21st Main Road, 2nd Stage, Banashankari, ...                  Jalsa   \n",
       "1  2nd Floor, 80 Feet Road, Near Big Bazaar, 6th ...         Spice Elephant   \n",
       "2  1112, Next to KIMS Medical College, 17th Cross...        San Churro Cafe   \n",
       "3  1st Floor, Annakuteera, 3rd Stage, Banashankar...  Addhuri Udupi Bhojana   \n",
       "4  10, 3rd Floor, Lakshmi Associates, Gandhi Baza...          Grand Village   \n",
       "\n",
       "  online_order book_table   rate  votes                             phone  \\\n",
       "0          Yes        Yes  4.1/5    775    080 42297555\\r\\n+91 9743772233   \n",
       "1          Yes         No  4.1/5    787                      080 41714161   \n",
       "2          Yes         No  3.8/5    918                    +91 9663487993   \n",
       "3           No         No  3.7/5     88                    +91 9620009302   \n",
       "4           No         No  3.8/5    166  +91 8026612447\\r\\n+91 9901210005   \n",
       "\n",
       "       location            rest_type  \\\n",
       "0  Banashankari        Casual Dining   \n",
       "1  Banashankari        Casual Dining   \n",
       "2  Banashankari  Cafe, Casual Dining   \n",
       "3  Banashankari          Quick Bites   \n",
       "4  Basavanagudi        Casual Dining   \n",
       "\n",
       "                                          dish_liked  \\\n",
       "0  Pasta, Lunch Buffet, Masala Papad, Paneer Laja...   \n",
       "1  Momos, Lunch Buffet, Chocolate Nirvana, Thai G...   \n",
       "2  Churros, Cannelloni, Minestrone Soup, Hot Choc...   \n",
       "3                                        Masala Dosa   \n",
       "4                                Panipuri, Gol Gappe   \n",
       "\n",
       "                         cuisines approx_cost(for two people)  \\\n",
       "0  North Indian, Mughlai, Chinese                         800   \n",
       "1     Chinese, North Indian, Thai                         800   \n",
       "2          Cafe, Mexican, Italian                         800   \n",
       "3      South Indian, North Indian                         300   \n",
       "4        North Indian, Rajasthani                         600   \n",
       "\n",
       "                                        reviews_list menu_item  \\\n",
       "0  [('Rated 4.0', 'RATED\\n  A beautiful place to ...        []   \n",
       "1  [('Rated 4.0', 'RATED\\n  Had been here for din...        []   \n",
       "2  [('Rated 3.0', \"RATED\\n  Ambience is not that ...        []   \n",
       "3  [('Rated 4.0', \"RATED\\n  Great food and proper...        []   \n",
       "4  [('Rated 4.0', 'RATED\\n  Very good restaurant ...        []   \n",
       "\n",
       "  listed_in(type) listed_in(city)  \n",
       "0          Buffet    Banashankari  \n",
       "1          Buffet    Banashankari  \n",
       "2          Buffet    Banashankari  \n",
       "3          Buffet    Banashankari  \n",
       "4          Buffet    Banashankari  "
      ]
     },
     "execution_count": 3,
     "metadata": {},
     "output_type": "execute_result"
    }
   ],
   "source": [
    "## first 5 rows of the dataset \n",
    "\n",
    "data.head()"
   ]
  },
  {
   "cell_type": "markdown",
   "id": "55e5a229",
   "metadata": {
    "id": "4OyKu8bmGYk7",
    "papermill": {
     "duration": 0.085972,
     "end_time": "2022-04-08T17:43:05.372189",
     "exception": false,
     "start_time": "2022-04-08T17:43:05.286217",
     "status": "completed"
    },
    "tags": []
   },
   "source": [
    "**Columns Description**\n",
    "\n",
    "1. **url </B> contains the url of the restaurant in the zomato website**\n",
    "\n",
    "2. **Address** contains the address of the restaurant in Bengaluru\n",
    "\n",
    "3. **Name** contains the name of the restaurant\n",
    "\n",
    "4. **Online_order** whether online ordering is available in the restaurant or not\n",
    "\n",
    "5. **Book_table** table book option available or not\n",
    "\n",
    "6. **Rate** contains the overall rating of the restaurant out of 5\n",
    "\n",
    "7. **Votes** contains total number of rating for the restaurant as of the above mentioned date\n",
    "\n",
    "8. **Phone** contains the phone number of the restaurant\n",
    "\n",
    "9. **Location** contains the neighborhood in which the restaurant is located\n",
    "\n",
    "10. **rest_type** restaurant type\n",
    "\n",
    "11. **dish_liked** dishes people liked in the restaurant\n",
    "\n",
    "12. **cuisines** food styles, separated by comma\n",
    "\n",
    "13. **approx_cost(for two people)** contains the approximate cost of meal for two people\n",
    "\n",
    "14. **reviews_list** list of tuples containing reviews for the restaurant, each tuple\n",
    "\n",
    "15. **menu_item** contains list of menus available in the restaurant\n",
    "\n",
    "16. **listed_in**(type) type of meal\n",
    "\n",
    "17. **listed_in**(city) contains the neighborhood in which the restaurant is listed\n",
    "\n"
   ]
  },
  {
   "cell_type": "code",
   "execution_count": 4,
   "id": "aa159b96",
   "metadata": {
    "execution": {
     "iopub.execute_input": "2022-04-08T17:43:05.550642Z",
     "iopub.status.busy": "2022-04-08T17:43:05.549813Z",
     "iopub.status.idle": "2022-04-08T17:43:05.553090Z",
     "shell.execute_reply": "2022-04-08T17:43:05.553648Z",
     "shell.execute_reply.started": "2021-11-22T03:36:06.37269Z"
    },
    "executionInfo": {
     "elapsed": 60,
     "status": "ok",
     "timestamp": 1637546425992,
     "user": {
      "displayName": "Harsh Pimpalkar",
      "photoUrl": "https://lh3.googleusercontent.com/a/default-user=s64",
      "userId": "00943371497075099378"
     },
     "user_tz": -330
    },
    "id": "1ES1zQ8pF8gb",
    "outputId": "6020c543-ccc0-4370-9a71-30ac2100b9b2",
    "papermill": {
     "duration": 0.095434,
     "end_time": "2022-04-08T17:43:05.553844",
     "exception": false,
     "start_time": "2022-04-08T17:43:05.458410",
     "status": "completed"
    },
    "tags": []
   },
   "outputs": [
    {
     "data": {
      "text/plain": [
       "(51717, 17)"
      ]
     },
     "execution_count": 4,
     "metadata": {},
     "output_type": "execute_result"
    }
   ],
   "source": [
    "## Measure the rows and columns \n",
    "\n",
    "data.shape"
   ]
  },
  {
   "cell_type": "code",
   "execution_count": 5,
   "id": "73105a1e",
   "metadata": {
    "execution": {
     "iopub.execute_input": "2022-04-08T17:43:05.734211Z",
     "iopub.status.busy": "2022-04-08T17:43:05.733523Z",
     "iopub.status.idle": "2022-04-08T17:43:05.736134Z",
     "shell.execute_reply": "2022-04-08T17:43:05.736651Z",
     "shell.execute_reply.started": "2021-11-22T03:36:06.378983Z"
    },
    "executionInfo": {
     "elapsed": 54,
     "status": "ok",
     "timestamp": 1637546425994,
     "user": {
      "displayName": "Harsh Pimpalkar",
      "photoUrl": "https://lh3.googleusercontent.com/a/default-user=s64",
      "userId": "00943371497075099378"
     },
     "user_tz": -330
    },
    "id": "cf1R7FtoHXpD",
    "outputId": "b6bd488f-c38e-43d4-e241-67fa887e0cc7",
    "papermill": {
     "duration": 0.096298,
     "end_time": "2022-04-08T17:43:05.736824",
     "exception": false,
     "start_time": "2022-04-08T17:43:05.640526",
     "status": "completed"
    },
    "tags": []
   },
   "outputs": [
    {
     "data": {
      "text/plain": [
       "url                            object\n",
       "address                        object\n",
       "name                           object\n",
       "online_order                   object\n",
       "book_table                     object\n",
       "rate                           object\n",
       "votes                           int64\n",
       "phone                          object\n",
       "location                       object\n",
       "rest_type                      object\n",
       "dish_liked                     object\n",
       "cuisines                       object\n",
       "approx_cost(for two people)    object\n",
       "reviews_list                   object\n",
       "menu_item                      object\n",
       "listed_in(type)                object\n",
       "listed_in(city)                object\n",
       "dtype: object"
      ]
     },
     "execution_count": 5,
     "metadata": {},
     "output_type": "execute_result"
    }
   ],
   "source": [
    "## checking the data types of the datasets \n",
    "\n",
    "data.dtypes"
   ]
  },
  {
   "cell_type": "code",
   "execution_count": 6,
   "id": "235eeecd",
   "metadata": {
    "execution": {
     "iopub.execute_input": "2022-04-08T17:43:06.009306Z",
     "iopub.status.busy": "2022-04-08T17:43:06.008618Z",
     "iopub.status.idle": "2022-04-08T17:43:06.017326Z",
     "shell.execute_reply": "2022-04-08T17:43:06.016777Z",
     "shell.execute_reply.started": "2021-11-22T03:36:06.397106Z"
    },
    "executionInfo": {
     "elapsed": 51,
     "status": "ok",
     "timestamp": 1637546425996,
     "user": {
      "displayName": "Harsh Pimpalkar",
      "photoUrl": "https://lh3.googleusercontent.com/a/default-user=s64",
      "userId": "00943371497075099378"
     },
     "user_tz": -330
    },
    "id": "oCnK3sMZHckt",
    "outputId": "e0c9b64e-fd03-4c49-9d94-cefcdb58ff03",
    "papermill": {
     "duration": 0.193508,
     "end_time": "2022-04-08T17:43:06.017484",
     "exception": false,
     "start_time": "2022-04-08T17:43:05.823976",
     "status": "completed"
    },
    "tags": []
   },
   "outputs": [
    {
     "data": {
      "text/plain": [
       "url                                0\n",
       "address                            0\n",
       "name                               0\n",
       "online_order                       0\n",
       "book_table                         0\n",
       "rate                            7775\n",
       "votes                              0\n",
       "phone                           1208\n",
       "location                          21\n",
       "rest_type                        227\n",
       "dish_liked                     28078\n",
       "cuisines                          45\n",
       "approx_cost(for two people)      346\n",
       "reviews_list                       0\n",
       "menu_item                          0\n",
       "listed_in(type)                    0\n",
       "listed_in(city)                    0\n",
       "dtype: int64"
      ]
     },
     "execution_count": 6,
     "metadata": {},
     "output_type": "execute_result"
    }
   ],
   "source": [
    "## check the missing values \n",
    "\n",
    "data.isna().sum()"
   ]
  },
  {
   "cell_type": "code",
   "execution_count": 7,
   "id": "a6b675c2",
   "metadata": {
    "execution": {
     "iopub.execute_input": "2022-04-08T17:43:06.203424Z",
     "iopub.status.busy": "2022-04-08T17:43:06.202732Z",
     "iopub.status.idle": "2022-04-08T17:43:06.222367Z",
     "shell.execute_reply": "2022-04-08T17:43:06.221796Z",
     "shell.execute_reply.started": "2021-11-22T03:36:06.456084Z"
    },
    "executionInfo": {
     "elapsed": 50,
     "status": "ok",
     "timestamp": 1637546426000,
     "user": {
      "displayName": "Harsh Pimpalkar",
      "photoUrl": "https://lh3.googleusercontent.com/a/default-user=s64",
      "userId": "00943371497075099378"
     },
     "user_tz": -330
    },
    "id": "ijtYB61rHiIS",
    "outputId": "96d91160-c7c2-45d6-b873-2fd20d9c363b",
    "papermill": {
     "duration": 0.117637,
     "end_time": "2022-04-08T17:43:06.222538",
     "exception": false,
     "start_time": "2022-04-08T17:43:06.104901",
     "status": "completed"
    },
    "tags": []
   },
   "outputs": [
    {
     "data": {
      "text/html": [
       "<div>\n",
       "<style scoped>\n",
       "    .dataframe tbody tr th:only-of-type {\n",
       "        vertical-align: middle;\n",
       "    }\n",
       "\n",
       "    .dataframe tbody tr th {\n",
       "        vertical-align: top;\n",
       "    }\n",
       "\n",
       "    .dataframe thead th {\n",
       "        text-align: right;\n",
       "    }\n",
       "</style>\n",
       "<table border=\"1\" class=\"dataframe\">\n",
       "  <thead>\n",
       "    <tr style=\"text-align: right;\">\n",
       "      <th></th>\n",
       "      <th>votes</th>\n",
       "    </tr>\n",
       "  </thead>\n",
       "  <tbody>\n",
       "    <tr>\n",
       "      <th>count</th>\n",
       "      <td>51717.000000</td>\n",
       "    </tr>\n",
       "    <tr>\n",
       "      <th>mean</th>\n",
       "      <td>283.697527</td>\n",
       "    </tr>\n",
       "    <tr>\n",
       "      <th>std</th>\n",
       "      <td>803.838853</td>\n",
       "    </tr>\n",
       "    <tr>\n",
       "      <th>min</th>\n",
       "      <td>0.000000</td>\n",
       "    </tr>\n",
       "    <tr>\n",
       "      <th>25%</th>\n",
       "      <td>7.000000</td>\n",
       "    </tr>\n",
       "    <tr>\n",
       "      <th>50%</th>\n",
       "      <td>41.000000</td>\n",
       "    </tr>\n",
       "    <tr>\n",
       "      <th>75%</th>\n",
       "      <td>198.000000</td>\n",
       "    </tr>\n",
       "    <tr>\n",
       "      <th>max</th>\n",
       "      <td>16832.000000</td>\n",
       "    </tr>\n",
       "  </tbody>\n",
       "</table>\n",
       "</div>"
      ],
      "text/plain": [
       "              votes\n",
       "count  51717.000000\n",
       "mean     283.697527\n",
       "std      803.838853\n",
       "min        0.000000\n",
       "25%        7.000000\n",
       "50%       41.000000\n",
       "75%      198.000000\n",
       "max    16832.000000"
      ]
     },
     "execution_count": 7,
     "metadata": {},
     "output_type": "execute_result"
    }
   ],
   "source": [
    "## Statistical Measures \n",
    "\n",
    "data.describe()"
   ]
  },
  {
   "cell_type": "code",
   "execution_count": 8,
   "id": "40d3f3a2",
   "metadata": {
    "execution": {
     "iopub.execute_input": "2022-04-08T17:43:06.413010Z",
     "iopub.status.busy": "2022-04-08T17:43:06.412330Z",
     "iopub.status.idle": "2022-04-08T17:43:06.415029Z",
     "shell.execute_reply": "2022-04-08T17:43:06.414523Z",
     "shell.execute_reply.started": "2021-11-22T03:36:06.486087Z"
    },
    "executionInfo": {
     "elapsed": 51,
     "status": "ok",
     "timestamp": 1637546426003,
     "user": {
      "displayName": "Harsh Pimpalkar",
      "photoUrl": "https://lh3.googleusercontent.com/a/default-user=s64",
      "userId": "00943371497075099378"
     },
     "user_tz": -330
    },
    "id": "hqmf0t_WH5Ly",
    "papermill": {
     "duration": 0.104793,
     "end_time": "2022-04-08T17:43:06.415175",
     "exception": false,
     "start_time": "2022-04-08T17:43:06.310382",
     "status": "completed"
    },
    "tags": []
   },
   "outputs": [],
   "source": [
    "## Delete the unnecessay columns \n",
    "\n",
    "df = data.drop(['url','phone'],axis=1)"
   ]
  },
  {
   "cell_type": "code",
   "execution_count": 9,
   "id": "af704e95",
   "metadata": {
    "execution": {
     "iopub.execute_input": "2022-04-08T17:43:06.610608Z",
     "iopub.status.busy": "2022-04-08T17:43:06.609906Z",
     "iopub.status.idle": "2022-04-08T17:43:06.614489Z",
     "shell.execute_reply": "2022-04-08T17:43:06.613942Z",
     "shell.execute_reply.started": "2021-11-22T03:36:06.501437Z"
    },
    "executionInfo": {
     "elapsed": 54,
     "status": "ok",
     "timestamp": 1637546426007,
     "user": {
      "displayName": "Harsh Pimpalkar",
      "photoUrl": "https://lh3.googleusercontent.com/a/default-user=s64",
      "userId": "00943371497075099378"
     },
     "user_tz": -330
    },
    "id": "aSWaerF6Hs5Q",
    "outputId": "030e35f9-b291-46e2-f2cf-ca456f7ef48c",
    "papermill": {
     "duration": 0.111451,
     "end_time": "2022-04-08T17:43:06.614629",
     "exception": false,
     "start_time": "2022-04-08T17:43:06.503178",
     "status": "completed"
    },
    "tags": []
   },
   "outputs": [
    {
     "data": {
      "text/html": [
       "<div>\n",
       "<style scoped>\n",
       "    .dataframe tbody tr th:only-of-type {\n",
       "        vertical-align: middle;\n",
       "    }\n",
       "\n",
       "    .dataframe tbody tr th {\n",
       "        vertical-align: top;\n",
       "    }\n",
       "\n",
       "    .dataframe thead th {\n",
       "        text-align: right;\n",
       "    }\n",
       "</style>\n",
       "<table border=\"1\" class=\"dataframe\">\n",
       "  <thead>\n",
       "    <tr style=\"text-align: right;\">\n",
       "      <th></th>\n",
       "      <th>address</th>\n",
       "      <th>name</th>\n",
       "      <th>online_order</th>\n",
       "      <th>book_table</th>\n",
       "      <th>rate</th>\n",
       "      <th>votes</th>\n",
       "      <th>location</th>\n",
       "      <th>rest_type</th>\n",
       "      <th>dish_liked</th>\n",
       "      <th>cuisines</th>\n",
       "      <th>approx_cost(for two people)</th>\n",
       "      <th>reviews_list</th>\n",
       "      <th>menu_item</th>\n",
       "      <th>listed_in(type)</th>\n",
       "      <th>listed_in(city)</th>\n",
       "    </tr>\n",
       "  </thead>\n",
       "  <tbody>\n",
       "    <tr>\n",
       "      <th>0</th>\n",
       "      <td>942, 21st Main Road, 2nd Stage, Banashankari, ...</td>\n",
       "      <td>Jalsa</td>\n",
       "      <td>Yes</td>\n",
       "      <td>Yes</td>\n",
       "      <td>4.1/5</td>\n",
       "      <td>775</td>\n",
       "      <td>Banashankari</td>\n",
       "      <td>Casual Dining</td>\n",
       "      <td>Pasta, Lunch Buffet, Masala Papad, Paneer Laja...</td>\n",
       "      <td>North Indian, Mughlai, Chinese</td>\n",
       "      <td>800</td>\n",
       "      <td>[('Rated 4.0', 'RATED\\n  A beautiful place to ...</td>\n",
       "      <td>[]</td>\n",
       "      <td>Buffet</td>\n",
       "      <td>Banashankari</td>\n",
       "    </tr>\n",
       "    <tr>\n",
       "      <th>1</th>\n",
       "      <td>2nd Floor, 80 Feet Road, Near Big Bazaar, 6th ...</td>\n",
       "      <td>Spice Elephant</td>\n",
       "      <td>Yes</td>\n",
       "      <td>No</td>\n",
       "      <td>4.1/5</td>\n",
       "      <td>787</td>\n",
       "      <td>Banashankari</td>\n",
       "      <td>Casual Dining</td>\n",
       "      <td>Momos, Lunch Buffet, Chocolate Nirvana, Thai G...</td>\n",
       "      <td>Chinese, North Indian, Thai</td>\n",
       "      <td>800</td>\n",
       "      <td>[('Rated 4.0', 'RATED\\n  Had been here for din...</td>\n",
       "      <td>[]</td>\n",
       "      <td>Buffet</td>\n",
       "      <td>Banashankari</td>\n",
       "    </tr>\n",
       "    <tr>\n",
       "      <th>2</th>\n",
       "      <td>1112, Next to KIMS Medical College, 17th Cross...</td>\n",
       "      <td>San Churro Cafe</td>\n",
       "      <td>Yes</td>\n",
       "      <td>No</td>\n",
       "      <td>3.8/5</td>\n",
       "      <td>918</td>\n",
       "      <td>Banashankari</td>\n",
       "      <td>Cafe, Casual Dining</td>\n",
       "      <td>Churros, Cannelloni, Minestrone Soup, Hot Choc...</td>\n",
       "      <td>Cafe, Mexican, Italian</td>\n",
       "      <td>800</td>\n",
       "      <td>[('Rated 3.0', \"RATED\\n  Ambience is not that ...</td>\n",
       "      <td>[]</td>\n",
       "      <td>Buffet</td>\n",
       "      <td>Banashankari</td>\n",
       "    </tr>\n",
       "    <tr>\n",
       "      <th>3</th>\n",
       "      <td>1st Floor, Annakuteera, 3rd Stage, Banashankar...</td>\n",
       "      <td>Addhuri Udupi Bhojana</td>\n",
       "      <td>No</td>\n",
       "      <td>No</td>\n",
       "      <td>3.7/5</td>\n",
       "      <td>88</td>\n",
       "      <td>Banashankari</td>\n",
       "      <td>Quick Bites</td>\n",
       "      <td>Masala Dosa</td>\n",
       "      <td>South Indian, North Indian</td>\n",
       "      <td>300</td>\n",
       "      <td>[('Rated 4.0', \"RATED\\n  Great food and proper...</td>\n",
       "      <td>[]</td>\n",
       "      <td>Buffet</td>\n",
       "      <td>Banashankari</td>\n",
       "    </tr>\n",
       "    <tr>\n",
       "      <th>4</th>\n",
       "      <td>10, 3rd Floor, Lakshmi Associates, Gandhi Baza...</td>\n",
       "      <td>Grand Village</td>\n",
       "      <td>No</td>\n",
       "      <td>No</td>\n",
       "      <td>3.8/5</td>\n",
       "      <td>166</td>\n",
       "      <td>Basavanagudi</td>\n",
       "      <td>Casual Dining</td>\n",
       "      <td>Panipuri, Gol Gappe</td>\n",
       "      <td>North Indian, Rajasthani</td>\n",
       "      <td>600</td>\n",
       "      <td>[('Rated 4.0', 'RATED\\n  Very good restaurant ...</td>\n",
       "      <td>[]</td>\n",
       "      <td>Buffet</td>\n",
       "      <td>Banashankari</td>\n",
       "    </tr>\n",
       "  </tbody>\n",
       "</table>\n",
       "</div>"
      ],
      "text/plain": [
       "                                             address                   name  \\\n",
       "0  942, 21st Main Road, 2nd Stage, Banashankari, ...                  Jalsa   \n",
       "1  2nd Floor, 80 Feet Road, Near Big Bazaar, 6th ...         Spice Elephant   \n",
       "2  1112, Next to KIMS Medical College, 17th Cross...        San Churro Cafe   \n",
       "3  1st Floor, Annakuteera, 3rd Stage, Banashankar...  Addhuri Udupi Bhojana   \n",
       "4  10, 3rd Floor, Lakshmi Associates, Gandhi Baza...          Grand Village   \n",
       "\n",
       "  online_order book_table   rate  votes      location            rest_type  \\\n",
       "0          Yes        Yes  4.1/5    775  Banashankari        Casual Dining   \n",
       "1          Yes         No  4.1/5    787  Banashankari        Casual Dining   \n",
       "2          Yes         No  3.8/5    918  Banashankari  Cafe, Casual Dining   \n",
       "3           No         No  3.7/5     88  Banashankari          Quick Bites   \n",
       "4           No         No  3.8/5    166  Basavanagudi        Casual Dining   \n",
       "\n",
       "                                          dish_liked  \\\n",
       "0  Pasta, Lunch Buffet, Masala Papad, Paneer Laja...   \n",
       "1  Momos, Lunch Buffet, Chocolate Nirvana, Thai G...   \n",
       "2  Churros, Cannelloni, Minestrone Soup, Hot Choc...   \n",
       "3                                        Masala Dosa   \n",
       "4                                Panipuri, Gol Gappe   \n",
       "\n",
       "                         cuisines approx_cost(for two people)  \\\n",
       "0  North Indian, Mughlai, Chinese                         800   \n",
       "1     Chinese, North Indian, Thai                         800   \n",
       "2          Cafe, Mexican, Italian                         800   \n",
       "3      South Indian, North Indian                         300   \n",
       "4        North Indian, Rajasthani                         600   \n",
       "\n",
       "                                        reviews_list menu_item  \\\n",
       "0  [('Rated 4.0', 'RATED\\n  A beautiful place to ...        []   \n",
       "1  [('Rated 4.0', 'RATED\\n  Had been here for din...        []   \n",
       "2  [('Rated 3.0', \"RATED\\n  Ambience is not that ...        []   \n",
       "3  [('Rated 4.0', \"RATED\\n  Great food and proper...        []   \n",
       "4  [('Rated 4.0', 'RATED\\n  Very good restaurant ...        []   \n",
       "\n",
       "  listed_in(type) listed_in(city)  \n",
       "0          Buffet    Banashankari  \n",
       "1          Buffet    Banashankari  \n",
       "2          Buffet    Banashankari  \n",
       "3          Buffet    Banashankari  \n",
       "4          Buffet    Banashankari  "
      ]
     },
     "execution_count": 9,
     "metadata": {},
     "output_type": "execute_result"
    }
   ],
   "source": [
    "df.head()"
   ]
  },
  {
   "cell_type": "markdown",
   "id": "8d39ccaf",
   "metadata": {
    "id": "2bnTBiIBIPUd",
    "papermill": {
     "duration": 0.088236,
     "end_time": "2022-04-08T17:43:06.790949",
     "exception": false,
     "start_time": "2022-04-08T17:43:06.702713",
     "status": "completed"
    },
    "tags": []
   },
   "source": [
    "**Checking for duplicate values**"
   ]
  },
  {
   "cell_type": "code",
   "execution_count": 10,
   "id": "3c6a92fa",
   "metadata": {
    "execution": {
     "iopub.execute_input": "2022-04-08T17:43:06.976376Z",
     "iopub.status.busy": "2022-04-08T17:43:06.975704Z",
     "iopub.status.idle": "2022-04-08T17:43:08.837375Z",
     "shell.execute_reply": "2022-04-08T17:43:08.836835Z",
     "shell.execute_reply.started": "2021-11-22T03:36:06.524101Z"
    },
    "executionInfo": {
     "elapsed": 2269,
     "status": "ok",
     "timestamp": 1637546428223,
     "user": {
      "displayName": "Harsh Pimpalkar",
      "photoUrl": "https://lh3.googleusercontent.com/a/default-user=s64",
      "userId": "00943371497075099378"
     },
     "user_tz": -330
    },
    "id": "W-oQsu3bH3Sk",
    "outputId": "57cbd58a-3422-4003-948f-cf0efc6590aa",
    "papermill": {
     "duration": 1.957418,
     "end_time": "2022-04-08T17:43:08.837543",
     "exception": false,
     "start_time": "2022-04-08T17:43:06.880125",
     "status": "completed"
    },
    "tags": []
   },
   "outputs": [
    {
     "data": {
      "text/plain": [
       "43"
      ]
     },
     "execution_count": 10,
     "metadata": {},
     "output_type": "execute_result"
    }
   ],
   "source": [
    "df.duplicated().sum()"
   ]
  },
  {
   "cell_type": "code",
   "execution_count": 11,
   "id": "2443551d",
   "metadata": {
    "execution": {
     "iopub.execute_input": "2022-04-08T17:43:09.023320Z",
     "iopub.status.busy": "2022-04-08T17:43:09.020856Z",
     "iopub.status.idle": "2022-04-08T17:43:10.330644Z",
     "shell.execute_reply": "2022-04-08T17:43:10.330009Z",
     "shell.execute_reply.started": "2021-11-22T03:36:08.42043Z"
    },
    "executionInfo": {
     "elapsed": 988,
     "status": "ok",
     "timestamp": 1637546429203,
     "user": {
      "displayName": "Harsh Pimpalkar",
      "photoUrl": "https://lh3.googleusercontent.com/a/default-user=s64",
      "userId": "00943371497075099378"
     },
     "user_tz": -330
    },
    "id": "Qsgykt6rIarl",
    "papermill": {
     "duration": 1.404246,
     "end_time": "2022-04-08T17:43:10.330799",
     "exception": false,
     "start_time": "2022-04-08T17:43:08.926553",
     "status": "completed"
    },
    "tags": []
   },
   "outputs": [],
   "source": [
    "## drop the duplicates \n",
    "\n",
    "df.drop_duplicates(inplace=True)"
   ]
  },
  {
   "cell_type": "code",
   "execution_count": 12,
   "id": "cef1b221",
   "metadata": {
    "execution": {
     "iopub.execute_input": "2022-04-08T17:43:10.513738Z",
     "iopub.status.busy": "2022-04-08T17:43:10.513047Z",
     "iopub.status.idle": "2022-04-08T17:43:11.823536Z",
     "shell.execute_reply": "2022-04-08T17:43:11.824113Z",
     "shell.execute_reply.started": "2021-11-22T03:36:09.731936Z"
    },
    "executionInfo": {
     "elapsed": 605,
     "status": "ok",
     "timestamp": 1637546429804,
     "user": {
      "displayName": "Harsh Pimpalkar",
      "photoUrl": "https://lh3.googleusercontent.com/a/default-user=s64",
      "userId": "00943371497075099378"
     },
     "user_tz": -330
    },
    "id": "QJou2eefIwno",
    "outputId": "34ea9cd4-8223-4179-ea9f-28b999f810ae",
    "papermill": {
     "duration": 1.402815,
     "end_time": "2022-04-08T17:43:11.824315",
     "exception": false,
     "start_time": "2022-04-08T17:43:10.421500",
     "status": "completed"
    },
    "tags": []
   },
   "outputs": [
    {
     "data": {
      "text/plain": [
       "0"
      ]
     },
     "execution_count": 12,
     "metadata": {},
     "output_type": "execute_result"
    }
   ],
   "source": [
    "df.duplicated().sum()"
   ]
  },
  {
   "cell_type": "markdown",
   "id": "cf65dc37",
   "metadata": {
    "id": "gH-uAlRbJHas",
    "papermill": {
     "duration": 0.091183,
     "end_time": "2022-04-08T17:43:12.009345",
     "exception": false,
     "start_time": "2022-04-08T17:43:11.918162",
     "status": "completed"
    },
    "tags": []
   },
   "source": [
    "**Drop Null values**"
   ]
  },
  {
   "cell_type": "code",
   "execution_count": 13,
   "id": "10b418c3",
   "metadata": {
    "execution": {
     "iopub.execute_input": "2022-04-08T17:43:12.197119Z",
     "iopub.status.busy": "2022-04-08T17:43:12.196142Z",
     "iopub.status.idle": "2022-04-08T17:43:12.292037Z",
     "shell.execute_reply": "2022-04-08T17:43:12.291408Z",
     "shell.execute_reply.started": "2021-11-22T03:36:11.033081Z"
    },
    "executionInfo": {
     "elapsed": 15,
     "status": "ok",
     "timestamp": 1637546429805,
     "user": {
      "displayName": "Harsh Pimpalkar",
      "photoUrl": "https://lh3.googleusercontent.com/a/default-user=s64",
      "userId": "00943371497075099378"
     },
     "user_tz": -330
    },
    "id": "EoKY6pKDJEp6",
    "papermill": {
     "duration": 0.188795,
     "end_time": "2022-04-08T17:43:12.292190",
     "exception": false,
     "start_time": "2022-04-08T17:43:12.103395",
     "status": "completed"
    },
    "tags": []
   },
   "outputs": [],
   "source": [
    "## Remove the Nan values from the dataset \n",
    "\n",
    "df.dropna(how='any', inplace=True)\n"
   ]
  },
  {
   "cell_type": "code",
   "execution_count": 14,
   "id": "16629935",
   "metadata": {
    "execution": {
     "iopub.execute_input": "2022-04-08T17:43:12.513614Z",
     "iopub.status.busy": "2022-04-08T17:43:12.512900Z",
     "iopub.status.idle": "2022-04-08T17:43:12.520964Z",
     "shell.execute_reply": "2022-04-08T17:43:12.520303Z",
     "shell.execute_reply.started": "2021-11-22T03:36:11.089766Z"
    },
    "executionInfo": {
     "elapsed": 15,
     "status": "ok",
     "timestamp": 1637546429805,
     "user": {
      "displayName": "Harsh Pimpalkar",
      "photoUrl": "https://lh3.googleusercontent.com/a/default-user=s64",
      "userId": "00943371497075099378"
     },
     "user_tz": -330
    },
    "id": "EjDuRD5pJUmE",
    "outputId": "54b8766e-b387-4cdf-b73d-44a5cac6fa32",
    "papermill": {
     "duration": 0.139191,
     "end_time": "2022-04-08T17:43:12.521123",
     "exception": false,
     "start_time": "2022-04-08T17:43:12.381932",
     "status": "completed"
    },
    "tags": []
   },
   "outputs": [
    {
     "data": {
      "text/plain": [
       "address                        0\n",
       "name                           0\n",
       "online_order                   0\n",
       "book_table                     0\n",
       "rate                           0\n",
       "votes                          0\n",
       "location                       0\n",
       "rest_type                      0\n",
       "dish_liked                     0\n",
       "cuisines                       0\n",
       "approx_cost(for two people)    0\n",
       "reviews_list                   0\n",
       "menu_item                      0\n",
       "listed_in(type)                0\n",
       "listed_in(city)                0\n",
       "dtype: int64"
      ]
     },
     "execution_count": 14,
     "metadata": {},
     "output_type": "execute_result"
    }
   ],
   "source": [
    "df.isnull().sum()"
   ]
  },
  {
   "cell_type": "markdown",
   "id": "a94c3078",
   "metadata": {
    "id": "gvQX9LP6Jk1-",
    "papermill": {
     "duration": 0.115841,
     "end_time": "2022-04-08T17:43:12.730938",
     "exception": false,
     "start_time": "2022-04-08T17:43:12.615097",
     "status": "completed"
    },
    "tags": []
   },
   "source": [
    "**Renaming the columns Appropriately**"
   ]
  },
  {
   "cell_type": "code",
   "execution_count": 15,
   "id": "23612e62",
   "metadata": {
    "execution": {
     "iopub.execute_input": "2022-04-08T17:43:12.931006Z",
     "iopub.status.busy": "2022-04-08T17:43:12.930189Z",
     "iopub.status.idle": "2022-04-08T17:43:12.935841Z",
     "shell.execute_reply": "2022-04-08T17:43:12.936435Z",
     "shell.execute_reply.started": "2021-11-22T03:36:11.119346Z"
    },
    "executionInfo": {
     "elapsed": 11,
     "status": "ok",
     "timestamp": 1637546429806,
     "user": {
      "displayName": "Harsh Pimpalkar",
      "photoUrl": "https://lh3.googleusercontent.com/a/default-user=s64",
      "userId": "00943371497075099378"
     },
     "user_tz": -330
    },
    "id": "csz3YmyvJimg",
    "outputId": "88a8ee6b-f319-45a7-eeba-658976532744",
    "papermill": {
     "duration": 0.106631,
     "end_time": "2022-04-08T17:43:12.936798",
     "exception": false,
     "start_time": "2022-04-08T17:43:12.830167",
     "status": "completed"
    },
    "tags": []
   },
   "outputs": [
    {
     "data": {
      "text/plain": [
       "Index(['address', 'name', 'online_order', 'book_table', 'rate', 'votes',\n",
       "       'location', 'rest_type', 'dish_liked', 'cuisines',\n",
       "       'approx_cost(for two people)', 'reviews_list', 'menu_item',\n",
       "       'listed_in(type)', 'listed_in(city)'],\n",
       "      dtype='object')"
      ]
     },
     "execution_count": 15,
     "metadata": {},
     "output_type": "execute_result"
    }
   ],
   "source": [
    "df.columns"
   ]
  },
  {
   "cell_type": "code",
   "execution_count": 16,
   "id": "06a7636c",
   "metadata": {
    "execution": {
     "iopub.execute_input": "2022-04-08T17:43:13.135069Z",
     "iopub.status.busy": "2022-04-08T17:43:13.130472Z",
     "iopub.status.idle": "2022-04-08T17:43:13.139827Z",
     "shell.execute_reply": "2022-04-08T17:43:13.140430Z",
     "shell.execute_reply.started": "2021-11-22T03:36:11.13128Z"
    },
    "executionInfo": {
     "elapsed": 62,
     "status": "ok",
     "timestamp": 1637546430537,
     "user": {
      "displayName": "Harsh Pimpalkar",
      "photoUrl": "https://lh3.googleusercontent.com/a/default-user=s64",
      "userId": "00943371497075099378"
     },
     "user_tz": -330
    },
    "id": "uXfVm3GbJrdA",
    "papermill": {
     "duration": 0.106077,
     "end_time": "2022-04-08T17:43:13.140658",
     "exception": false,
     "start_time": "2022-04-08T17:43:13.034581",
     "status": "completed"
    },
    "tags": []
   },
   "outputs": [],
   "source": [
    "df = df.rename(columns={'approx_cost(for two people)':'cost', 'listed_in(type)':'type', 'listed_in(city)':'city'})"
   ]
  },
  {
   "cell_type": "code",
   "execution_count": 17,
   "id": "39df539a",
   "metadata": {
    "execution": {
     "iopub.execute_input": "2022-04-08T17:43:13.328496Z",
     "iopub.status.busy": "2022-04-08T17:43:13.327760Z",
     "iopub.status.idle": "2022-04-08T17:43:13.333050Z",
     "shell.execute_reply": "2022-04-08T17:43:13.333741Z",
     "shell.execute_reply.started": "2021-11-22T03:36:11.15066Z"
    },
    "executionInfo": {
     "elapsed": 62,
     "status": "ok",
     "timestamp": 1637546430538,
     "user": {
      "displayName": "Harsh Pimpalkar",
      "photoUrl": "https://lh3.googleusercontent.com/a/default-user=s64",
      "userId": "00943371497075099378"
     },
     "user_tz": -330
    },
    "id": "PLuuTe3vJ-q8",
    "outputId": "2b5c44bc-6284-4619-8d07-a1af2f4e2ebb",
    "papermill": {
     "duration": 0.10013,
     "end_time": "2022-04-08T17:43:13.333923",
     "exception": false,
     "start_time": "2022-04-08T17:43:13.233793",
     "status": "completed"
    },
    "tags": []
   },
   "outputs": [
    {
     "data": {
      "text/plain": [
       "Index(['address', 'name', 'online_order', 'book_table', 'rate', 'votes',\n",
       "       'location', 'rest_type', 'dish_liked', 'cuisines', 'cost',\n",
       "       'reviews_list', 'menu_item', 'type', 'city'],\n",
       "      dtype='object')"
      ]
     },
     "execution_count": 17,
     "metadata": {},
     "output_type": "execute_result"
    }
   ],
   "source": [
    "df.columns"
   ]
  },
  {
   "cell_type": "code",
   "execution_count": 18,
   "id": "8161fb7e",
   "metadata": {
    "execution": {
     "iopub.execute_input": "2022-04-08T17:43:13.522843Z",
     "iopub.status.busy": "2022-04-08T17:43:13.522052Z",
     "iopub.status.idle": "2022-04-08T17:43:13.540118Z",
     "shell.execute_reply": "2022-04-08T17:43:13.540872Z",
     "shell.execute_reply.started": "2021-11-22T03:36:11.16121Z"
    },
    "executionInfo": {
     "elapsed": 52,
     "status": "ok",
     "timestamp": 1637546430540,
     "user": {
      "displayName": "Harsh Pimpalkar",
      "photoUrl": "https://lh3.googleusercontent.com/a/default-user=s64",
      "userId": "00943371497075099378"
     },
     "user_tz": -330
    },
    "id": "GRbN778DKFUN",
    "outputId": "66c9daae-ffeb-400f-91b5-562d7b1e1a24",
    "papermill": {
     "duration": 0.114907,
     "end_time": "2022-04-08T17:43:13.541055",
     "exception": false,
     "start_time": "2022-04-08T17:43:13.426148",
     "status": "completed"
    },
    "tags": []
   },
   "outputs": [
    {
     "data": {
      "text/html": [
       "<div>\n",
       "<style scoped>\n",
       "    .dataframe tbody tr th:only-of-type {\n",
       "        vertical-align: middle;\n",
       "    }\n",
       "\n",
       "    .dataframe tbody tr th {\n",
       "        vertical-align: top;\n",
       "    }\n",
       "\n",
       "    .dataframe thead th {\n",
       "        text-align: right;\n",
       "    }\n",
       "</style>\n",
       "<table border=\"1\" class=\"dataframe\">\n",
       "  <thead>\n",
       "    <tr style=\"text-align: right;\">\n",
       "      <th></th>\n",
       "      <th>address</th>\n",
       "      <th>name</th>\n",
       "      <th>online_order</th>\n",
       "      <th>book_table</th>\n",
       "      <th>rate</th>\n",
       "      <th>votes</th>\n",
       "      <th>location</th>\n",
       "      <th>rest_type</th>\n",
       "      <th>dish_liked</th>\n",
       "      <th>cuisines</th>\n",
       "      <th>cost</th>\n",
       "      <th>reviews_list</th>\n",
       "      <th>menu_item</th>\n",
       "      <th>type</th>\n",
       "      <th>city</th>\n",
       "    </tr>\n",
       "  </thead>\n",
       "  <tbody>\n",
       "    <tr>\n",
       "      <th>0</th>\n",
       "      <td>942, 21st Main Road, 2nd Stage, Banashankari, ...</td>\n",
       "      <td>Jalsa</td>\n",
       "      <td>Yes</td>\n",
       "      <td>Yes</td>\n",
       "      <td>4.1/5</td>\n",
       "      <td>775</td>\n",
       "      <td>Banashankari</td>\n",
       "      <td>Casual Dining</td>\n",
       "      <td>Pasta, Lunch Buffet, Masala Papad, Paneer Laja...</td>\n",
       "      <td>North Indian, Mughlai, Chinese</td>\n",
       "      <td>800</td>\n",
       "      <td>[('Rated 4.0', 'RATED\\n  A beautiful place to ...</td>\n",
       "      <td>[]</td>\n",
       "      <td>Buffet</td>\n",
       "      <td>Banashankari</td>\n",
       "    </tr>\n",
       "    <tr>\n",
       "      <th>1</th>\n",
       "      <td>2nd Floor, 80 Feet Road, Near Big Bazaar, 6th ...</td>\n",
       "      <td>Spice Elephant</td>\n",
       "      <td>Yes</td>\n",
       "      <td>No</td>\n",
       "      <td>4.1/5</td>\n",
       "      <td>787</td>\n",
       "      <td>Banashankari</td>\n",
       "      <td>Casual Dining</td>\n",
       "      <td>Momos, Lunch Buffet, Chocolate Nirvana, Thai G...</td>\n",
       "      <td>Chinese, North Indian, Thai</td>\n",
       "      <td>800</td>\n",
       "      <td>[('Rated 4.0', 'RATED\\n  Had been here for din...</td>\n",
       "      <td>[]</td>\n",
       "      <td>Buffet</td>\n",
       "      <td>Banashankari</td>\n",
       "    </tr>\n",
       "    <tr>\n",
       "      <th>2</th>\n",
       "      <td>1112, Next to KIMS Medical College, 17th Cross...</td>\n",
       "      <td>San Churro Cafe</td>\n",
       "      <td>Yes</td>\n",
       "      <td>No</td>\n",
       "      <td>3.8/5</td>\n",
       "      <td>918</td>\n",
       "      <td>Banashankari</td>\n",
       "      <td>Cafe, Casual Dining</td>\n",
       "      <td>Churros, Cannelloni, Minestrone Soup, Hot Choc...</td>\n",
       "      <td>Cafe, Mexican, Italian</td>\n",
       "      <td>800</td>\n",
       "      <td>[('Rated 3.0', \"RATED\\n  Ambience is not that ...</td>\n",
       "      <td>[]</td>\n",
       "      <td>Buffet</td>\n",
       "      <td>Banashankari</td>\n",
       "    </tr>\n",
       "    <tr>\n",
       "      <th>3</th>\n",
       "      <td>1st Floor, Annakuteera, 3rd Stage, Banashankar...</td>\n",
       "      <td>Addhuri Udupi Bhojana</td>\n",
       "      <td>No</td>\n",
       "      <td>No</td>\n",
       "      <td>3.7/5</td>\n",
       "      <td>88</td>\n",
       "      <td>Banashankari</td>\n",
       "      <td>Quick Bites</td>\n",
       "      <td>Masala Dosa</td>\n",
       "      <td>South Indian, North Indian</td>\n",
       "      <td>300</td>\n",
       "      <td>[('Rated 4.0', \"RATED\\n  Great food and proper...</td>\n",
       "      <td>[]</td>\n",
       "      <td>Buffet</td>\n",
       "      <td>Banashankari</td>\n",
       "    </tr>\n",
       "    <tr>\n",
       "      <th>4</th>\n",
       "      <td>10, 3rd Floor, Lakshmi Associates, Gandhi Baza...</td>\n",
       "      <td>Grand Village</td>\n",
       "      <td>No</td>\n",
       "      <td>No</td>\n",
       "      <td>3.8/5</td>\n",
       "      <td>166</td>\n",
       "      <td>Basavanagudi</td>\n",
       "      <td>Casual Dining</td>\n",
       "      <td>Panipuri, Gol Gappe</td>\n",
       "      <td>North Indian, Rajasthani</td>\n",
       "      <td>600</td>\n",
       "      <td>[('Rated 4.0', 'RATED\\n  Very good restaurant ...</td>\n",
       "      <td>[]</td>\n",
       "      <td>Buffet</td>\n",
       "      <td>Banashankari</td>\n",
       "    </tr>\n",
       "  </tbody>\n",
       "</table>\n",
       "</div>"
      ],
      "text/plain": [
       "                                             address                   name  \\\n",
       "0  942, 21st Main Road, 2nd Stage, Banashankari, ...                  Jalsa   \n",
       "1  2nd Floor, 80 Feet Road, Near Big Bazaar, 6th ...         Spice Elephant   \n",
       "2  1112, Next to KIMS Medical College, 17th Cross...        San Churro Cafe   \n",
       "3  1st Floor, Annakuteera, 3rd Stage, Banashankar...  Addhuri Udupi Bhojana   \n",
       "4  10, 3rd Floor, Lakshmi Associates, Gandhi Baza...          Grand Village   \n",
       "\n",
       "  online_order book_table   rate  votes      location            rest_type  \\\n",
       "0          Yes        Yes  4.1/5    775  Banashankari        Casual Dining   \n",
       "1          Yes         No  4.1/5    787  Banashankari        Casual Dining   \n",
       "2          Yes         No  3.8/5    918  Banashankari  Cafe, Casual Dining   \n",
       "3           No         No  3.7/5     88  Banashankari          Quick Bites   \n",
       "4           No         No  3.8/5    166  Basavanagudi        Casual Dining   \n",
       "\n",
       "                                          dish_liked  \\\n",
       "0  Pasta, Lunch Buffet, Masala Papad, Paneer Laja...   \n",
       "1  Momos, Lunch Buffet, Chocolate Nirvana, Thai G...   \n",
       "2  Churros, Cannelloni, Minestrone Soup, Hot Choc...   \n",
       "3                                        Masala Dosa   \n",
       "4                                Panipuri, Gol Gappe   \n",
       "\n",
       "                         cuisines cost  \\\n",
       "0  North Indian, Mughlai, Chinese  800   \n",
       "1     Chinese, North Indian, Thai  800   \n",
       "2          Cafe, Mexican, Italian  800   \n",
       "3      South Indian, North Indian  300   \n",
       "4        North Indian, Rajasthani  600   \n",
       "\n",
       "                                        reviews_list menu_item    type  \\\n",
       "0  [('Rated 4.0', 'RATED\\n  A beautiful place to ...        []  Buffet   \n",
       "1  [('Rated 4.0', 'RATED\\n  Had been here for din...        []  Buffet   \n",
       "2  [('Rated 3.0', \"RATED\\n  Ambience is not that ...        []  Buffet   \n",
       "3  [('Rated 4.0', \"RATED\\n  Great food and proper...        []  Buffet   \n",
       "4  [('Rated 4.0', 'RATED\\n  Very good restaurant ...        []  Buffet   \n",
       "\n",
       "           city  \n",
       "0  Banashankari  \n",
       "1  Banashankari  \n",
       "2  Banashankari  \n",
       "3  Banashankari  \n",
       "4  Banashankari  "
      ]
     },
     "execution_count": 18,
     "metadata": {},
     "output_type": "execute_result"
    }
   ],
   "source": [
    "df.head()"
   ]
  },
  {
   "cell_type": "markdown",
   "id": "15aab928",
   "metadata": {
    "id": "Sxl5xP0cKJjK",
    "papermill": {
     "duration": 0.093107,
     "end_time": "2022-04-08T17:43:13.732606",
     "exception": false,
     "start_time": "2022-04-08T17:43:13.639499",
     "status": "completed"
    },
    "tags": []
   },
   "source": [
    "**Cleaning the dataset**"
   ]
  },
  {
   "cell_type": "code",
   "execution_count": 19,
   "id": "b5afad4f",
   "metadata": {
    "execution": {
     "iopub.execute_input": "2022-04-08T17:43:13.919233Z",
     "iopub.status.busy": "2022-04-08T17:43:13.918168Z",
     "iopub.status.idle": "2022-04-08T17:43:13.927609Z",
     "shell.execute_reply": "2022-04-08T17:43:13.928100Z",
     "shell.execute_reply.started": "2021-11-22T03:36:11.184208Z"
    },
    "executionInfo": {
     "elapsed": 52,
     "status": "ok",
     "timestamp": 1637546430542,
     "user": {
      "displayName": "Harsh Pimpalkar",
      "photoUrl": "https://lh3.googleusercontent.com/a/default-user=s64",
      "userId": "00943371497075099378"
     },
     "user_tz": -330
    },
    "id": "IEjPbzFaKHfx",
    "outputId": "fa6dba2d-de5d-41b3-88a8-650d93ab4a79",
    "papermill": {
     "duration": 0.104757,
     "end_time": "2022-04-08T17:43:13.928322",
     "exception": false,
     "start_time": "2022-04-08T17:43:13.823565",
     "status": "completed"
    },
    "tags": []
   },
   "outputs": [
    {
     "data": {
      "text/plain": [
       "array(['800', '300', '600', '700', '550', '500', '450', '650', '400',\n",
       "       '750', '200', '850', '1,200', '150', '350', '250', '1,500',\n",
       "       '1,300', '1,000', '100', '900', '1,100', '1,600', '950', '230',\n",
       "       '1,700', '1,400', '1,350', '2,200', '2,000', '1,800', '1,900',\n",
       "       '180', '330', '2,500', '2,100', '3,000', '2,800', '3,400', '40',\n",
       "       '1,250', '3,500', '4,000', '2,400', '1,450', '3,200', '6,000',\n",
       "       '1,050', '4,100', '2,300', '120', '2,600', '5,000', '3,700',\n",
       "       '1,650', '2,700', '4,500'], dtype=object)"
      ]
     },
     "execution_count": 19,
     "metadata": {},
     "output_type": "execute_result"
    }
   ],
   "source": [
    "df['cost'].unique()"
   ]
  },
  {
   "cell_type": "markdown",
   "id": "ba3bb617",
   "metadata": {
    "id": "sOLVNSekK8yS",
    "papermill": {
     "duration": 0.094872,
     "end_time": "2022-04-08T17:43:14.123107",
     "exception": false,
     "start_time": "2022-04-08T17:43:14.028235",
     "status": "completed"
    },
    "tags": []
   },
   "source": [
    "**Replacing the \",\" with nothing and converting the results to float**"
   ]
  },
  {
   "cell_type": "code",
   "execution_count": 20,
   "id": "41270efe",
   "metadata": {
    "execution": {
     "iopub.execute_input": "2022-04-08T17:43:14.313159Z",
     "iopub.status.busy": "2022-04-08T17:43:14.312163Z",
     "iopub.status.idle": "2022-04-08T17:43:14.331153Z",
     "shell.execute_reply": "2022-04-08T17:43:14.331758Z",
     "shell.execute_reply.started": "2021-11-22T03:36:11.195624Z"
    },
    "executionInfo": {
     "elapsed": 49,
     "status": "ok",
     "timestamp": 1637546430544,
     "user": {
      "displayName": "Harsh Pimpalkar",
      "photoUrl": "https://lh3.googleusercontent.com/a/default-user=s64",
      "userId": "00943371497075099378"
     },
     "user_tz": -330
    },
    "id": "cMxio2M0KPXh",
    "papermill": {
     "duration": 0.116452,
     "end_time": "2022-04-08T17:43:14.331966",
     "exception": false,
     "start_time": "2022-04-08T17:43:14.215514",
     "status": "completed"
    },
    "tags": []
   },
   "outputs": [],
   "source": [
    "df['cost'] = df['cost'].apply(lambda x: x.replace(\",\",\"\"))\n",
    "df['cost'] = df['cost'].astype(float)\n"
   ]
  },
  {
   "cell_type": "code",
   "execution_count": 21,
   "id": "47cb8214",
   "metadata": {
    "execution": {
     "iopub.execute_input": "2022-04-08T17:43:14.525771Z",
     "iopub.status.busy": "2022-04-08T17:43:14.524995Z",
     "iopub.status.idle": "2022-04-08T17:43:14.537505Z",
     "shell.execute_reply": "2022-04-08T17:43:14.538127Z",
     "shell.execute_reply.started": "2021-11-22T03:36:11.21509Z"
    },
    "executionInfo": {
     "elapsed": 48,
     "status": "ok",
     "timestamp": 1637546430545,
     "user": {
      "displayName": "Harsh Pimpalkar",
      "photoUrl": "https://lh3.googleusercontent.com/a/default-user=s64",
      "userId": "00943371497075099378"
     },
     "user_tz": -330
    },
    "id": "GZziIVcqLTF1",
    "outputId": "2d0a3ed6-65ce-4868-f7fd-cac3e69f681c",
    "papermill": {
     "duration": 0.111462,
     "end_time": "2022-04-08T17:43:14.538300",
     "exception": false,
     "start_time": "2022-04-08T17:43:14.426838",
     "status": "completed"
    },
    "tags": []
   },
   "outputs": [
    {
     "name": "stdout",
     "output_type": "stream",
     "text": [
      "[ 800.  300.  600.  700.  550.  500.  450.  650.  400.  750.  200.  850.\n",
      " 1200.  150.  350.  250. 1500. 1300. 1000.  100.  900. 1100. 1600.  950.\n",
      "  230. 1700. 1400. 1350. 2200. 2000. 1800. 1900.  180.  330. 2500. 2100.\n",
      " 3000. 2800. 3400.   40. 1250. 3500. 4000. 2400. 1450. 3200. 6000. 1050.\n",
      " 4100. 2300.  120. 2600. 5000. 3700. 1650. 2700. 4500.]\n",
      "------------------------------\n"
     ]
    },
    {
     "data": {
      "text/plain": [
       "address          object\n",
       "name             object\n",
       "online_order     object\n",
       "book_table       object\n",
       "rate             object\n",
       "votes             int64\n",
       "location         object\n",
       "rest_type        object\n",
       "dish_liked       object\n",
       "cuisines         object\n",
       "cost            float64\n",
       "reviews_list     object\n",
       "menu_item        object\n",
       "type             object\n",
       "city             object\n",
       "dtype: object"
      ]
     },
     "execution_count": 21,
     "metadata": {},
     "output_type": "execute_result"
    }
   ],
   "source": [
    "print(df['cost'].unique())\n",
    "print('---'*10)\n",
    "df.dtypes"
   ]
  },
  {
   "cell_type": "code",
   "execution_count": 22,
   "id": "802bdf13",
   "metadata": {
    "execution": {
     "iopub.execute_input": "2022-04-08T17:43:14.731185Z",
     "iopub.status.busy": "2022-04-08T17:43:14.730367Z",
     "iopub.status.idle": "2022-04-08T17:43:14.739464Z",
     "shell.execute_reply": "2022-04-08T17:43:14.738874Z",
     "shell.execute_reply.started": "2021-11-22T03:36:11.228933Z"
    },
    "executionInfo": {
     "elapsed": 46,
     "status": "ok",
     "timestamp": 1637546430547,
     "user": {
      "displayName": "Harsh Pimpalkar",
      "photoUrl": "https://lh3.googleusercontent.com/a/default-user=s64",
      "userId": "00943371497075099378"
     },
     "user_tz": -330
    },
    "id": "7vSEK97NLUwi",
    "outputId": "f471d617-33bf-466f-c8c2-9b4bec598d0f",
    "papermill": {
     "duration": 0.105641,
     "end_time": "2022-04-08T17:43:14.739658",
     "exception": false,
     "start_time": "2022-04-08T17:43:14.634017",
     "status": "completed"
    },
    "tags": []
   },
   "outputs": [
    {
     "data": {
      "text/plain": [
       "array(['4.1/5', '3.8/5', '3.7/5', '4.6/5', '4.0/5', '4.2/5', '3.9/5',\n",
       "       '3.0/5', '3.6/5', '2.8/5', '4.4/5', '3.1/5', '4.3/5', '2.6/5',\n",
       "       '3.3/5', '3.5/5', '3.8 /5', '3.2/5', '4.5/5', '2.5/5', '2.9/5',\n",
       "       '3.4/5', '2.7/5', '4.7/5', 'NEW', '2.4/5', '2.2/5', '2.3/5',\n",
       "       '4.8/5', '3.9 /5', '4.2 /5', '4.0 /5', '4.1 /5', '2.9 /5',\n",
       "       '2.7 /5', '2.5 /5', '2.6 /5', '4.5 /5', '4.3 /5', '3.7 /5',\n",
       "       '4.4 /5', '4.9/5', '2.1/5', '2.0/5', '1.8/5', '3.4 /5', '3.6 /5',\n",
       "       '3.3 /5', '4.6 /5', '4.9 /5', '3.2 /5', '3.0 /5', '2.8 /5',\n",
       "       '3.5 /5', '3.1 /5', '4.8 /5', '2.3 /5', '4.7 /5', '2.4 /5',\n",
       "       '2.1 /5', '2.2 /5', '2.0 /5', '1.8 /5'], dtype=object)"
      ]
     },
     "execution_count": 22,
     "metadata": {},
     "output_type": "execute_result"
    }
   ],
   "source": [
    "## Reading the unique values from the Rate column\n",
    "\n",
    "df['rate'].unique()"
   ]
  },
  {
   "cell_type": "code",
   "execution_count": 23,
   "id": "ea60bc89",
   "metadata": {
    "execution": {
     "iopub.execute_input": "2022-04-08T17:43:14.943171Z",
     "iopub.status.busy": "2022-04-08T17:43:14.942174Z",
     "iopub.status.idle": "2022-04-08T17:43:14.955957Z",
     "shell.execute_reply": "2022-04-08T17:43:14.956589Z",
     "shell.execute_reply.started": "2021-11-22T03:36:11.241896Z"
    },
    "executionInfo": {
     "elapsed": 45,
     "status": "ok",
     "timestamp": 1637546430551,
     "user": {
      "displayName": "Harsh Pimpalkar",
      "photoUrl": "https://lh3.googleusercontent.com/a/default-user=s64",
      "userId": "00943371497075099378"
     },
     "user_tz": -330
    },
    "id": "8VYVKqPbLzl8",
    "papermill": {
     "duration": 0.117216,
     "end_time": "2022-04-08T17:43:14.956804",
     "exception": false,
     "start_time": "2022-04-08T17:43:14.839588",
     "status": "completed"
    },
    "tags": []
   },
   "outputs": [],
   "source": [
    "df = df.loc[df.rate != 'NEW']  ##getting rid of \"NEW\""
   ]
  },
  {
   "cell_type": "code",
   "execution_count": 24,
   "id": "fca7be5f",
   "metadata": {
    "execution": {
     "iopub.execute_input": "2022-04-08T17:43:15.158308Z",
     "iopub.status.busy": "2022-04-08T17:43:15.157257Z",
     "iopub.status.idle": "2022-04-08T17:43:15.166026Z",
     "shell.execute_reply": "2022-04-08T17:43:15.166573Z",
     "shell.execute_reply.started": "2021-11-22T03:36:11.260796Z"
    },
    "executionInfo": {
     "elapsed": 46,
     "status": "ok",
     "timestamp": 1637546430553,
     "user": {
      "displayName": "Harsh Pimpalkar",
      "photoUrl": "https://lh3.googleusercontent.com/a/default-user=s64",
      "userId": "00943371497075099378"
     },
     "user_tz": -330
    },
    "id": "NjeJ3cuRL5bG",
    "outputId": "36c86c6a-0649-4868-eb12-117d88ad2488",
    "papermill": {
     "duration": 0.112101,
     "end_time": "2022-04-08T17:43:15.166776",
     "exception": false,
     "start_time": "2022-04-08T17:43:15.054675",
     "status": "completed"
    },
    "tags": []
   },
   "outputs": [
    {
     "data": {
      "text/plain": [
       "array(['4.1/5', '3.8/5', '3.7/5', '4.6/5', '4.0/5', '4.2/5', '3.9/5',\n",
       "       '3.0/5', '3.6/5', '2.8/5', '4.4/5', '3.1/5', '4.3/5', '2.6/5',\n",
       "       '3.3/5', '3.5/5', '3.8 /5', '3.2/5', '4.5/5', '2.5/5', '2.9/5',\n",
       "       '3.4/5', '2.7/5', '4.7/5', '2.4/5', '2.2/5', '2.3/5', '4.8/5',\n",
       "       '3.9 /5', '4.2 /5', '4.0 /5', '4.1 /5', '2.9 /5', '2.7 /5',\n",
       "       '2.5 /5', '2.6 /5', '4.5 /5', '4.3 /5', '3.7 /5', '4.4 /5',\n",
       "       '4.9/5', '2.1/5', '2.0/5', '1.8/5', '3.4 /5', '3.6 /5', '3.3 /5',\n",
       "       '4.6 /5', '4.9 /5', '3.2 /5', '3.0 /5', '2.8 /5', '3.5 /5',\n",
       "       '3.1 /5', '4.8 /5', '2.3 /5', '4.7 /5', '2.4 /5', '2.1 /5',\n",
       "       '2.2 /5', '2.0 /5', '1.8 /5'], dtype=object)"
      ]
     },
     "execution_count": 24,
     "metadata": {},
     "output_type": "execute_result"
    }
   ],
   "source": [
    "df['rate'].unique()"
   ]
  },
  {
   "cell_type": "code",
   "execution_count": 25,
   "id": "ba1341f4",
   "metadata": {
    "execution": {
     "iopub.execute_input": "2022-04-08T17:43:15.357923Z",
     "iopub.status.busy": "2022-04-08T17:43:15.357166Z",
     "iopub.status.idle": "2022-04-08T17:43:15.377072Z",
     "shell.execute_reply": "2022-04-08T17:43:15.377732Z",
     "shell.execute_reply.started": "2021-11-22T03:36:11.270075Z"
    },
    "executionInfo": {
     "elapsed": 44,
     "status": "ok",
     "timestamp": 1637546430555,
     "user": {
      "displayName": "Harsh Pimpalkar",
      "photoUrl": "https://lh3.googleusercontent.com/a/default-user=s64",
      "userId": "00943371497075099378"
     },
     "user_tz": -330
    },
    "id": "MzB1ady8L6gy",
    "outputId": "a45c28f4-581c-465c-bea2-ae05bcb1fb75",
    "papermill": {
     "duration": 0.116784,
     "end_time": "2022-04-08T17:43:15.377945",
     "exception": false,
     "start_time": "2022-04-08T17:43:15.261161",
     "status": "completed"
    },
    "tags": []
   },
   "outputs": [
    {
     "data": {
      "text/plain": [
       "array(['4.1', '3.8', '3.7', '4.6', '4.0', '4.2', '3.9', '3.0', '3.6',\n",
       "       '2.8', '4.4', '3.1', '4.3', '2.6', '3.3', '3.5', '3.8 ', '3.2',\n",
       "       '4.5', '2.5', '2.9', '3.4', '2.7', '4.7', '2.4', '2.2', '2.3',\n",
       "       '4.8', '3.9 ', '4.2 ', '4.0 ', '4.1 ', '2.9 ', '2.7 ', '2.5 ',\n",
       "       '2.6 ', '4.5 ', '4.3 ', '3.7 ', '4.4 ', '4.9', '2.1', '2.0', '1.8',\n",
       "       '3.4 ', '3.6 ', '3.3 ', '4.6 ', '4.9 ', '3.2 ', '3.0 ', '2.8 ',\n",
       "       '3.5 ', '3.1 ', '4.8 ', '2.3 ', '4.7 ', '2.4 ', '2.1 ', '2.2 ',\n",
       "       '2.0 ', '1.8 '], dtype=object)"
      ]
     },
     "execution_count": 25,
     "metadata": {},
     "output_type": "execute_result"
    }
   ],
   "source": [
    "## Removing the '/5' from ratings \n",
    "\n",
    "df['rate']  = df['rate'].apply(lambda x: x.replace('/5',''))\n",
    "df['rate'].unique()"
   ]
  },
  {
   "cell_type": "markdown",
   "id": "d7c64c75",
   "metadata": {
    "id": "C7tlPi2sMkGR",
    "papermill": {
     "duration": 0.100017,
     "end_time": "2022-04-08T17:43:15.579380",
     "exception": false,
     "start_time": "2022-04-08T17:43:15.479363",
     "status": "completed"
    },
    "tags": []
   },
   "source": [
    "### Visualizations \n",
    "\n",
    "Most Famous resturants chains in Bangaluru"
   ]
  },
  {
   "cell_type": "code",
   "execution_count": 26,
   "id": "188ef869",
   "metadata": {
    "execution": {
     "iopub.execute_input": "2022-04-08T17:43:15.778103Z",
     "iopub.status.busy": "2022-04-08T17:43:15.777135Z",
     "iopub.status.idle": "2022-04-08T17:43:15.789786Z",
     "shell.execute_reply": "2022-04-08T17:43:15.790278Z",
     "shell.execute_reply.started": "2021-11-22T03:36:11.293162Z"
    },
    "executionInfo": {
     "elapsed": 40,
     "status": "ok",
     "timestamp": 1637546430556,
     "user": {
      "displayName": "Harsh Pimpalkar",
      "photoUrl": "https://lh3.googleusercontent.com/a/default-user=s64",
      "userId": "00943371497075099378"
     },
     "user_tz": -330
    },
    "id": "FEau-LolNPW6",
    "outputId": "22cb2054-0761-4129-d79e-a30335d24dcb",
    "papermill": {
     "duration": 0.112053,
     "end_time": "2022-04-08T17:43:15.790477",
     "exception": false,
     "start_time": "2022-04-08T17:43:15.678424",
     "status": "completed"
    },
    "tags": []
   },
   "outputs": [
    {
     "data": {
      "text/plain": [
       "Onesta                    85\n",
       "Empire Restaurant         67\n",
       "KFC                       59\n",
       "McDonald's                57\n",
       "Pizza Hut                 56\n",
       "Domino's Pizza            55\n",
       "Smally's Resto Cafe       54\n",
       "Faasos                    54\n",
       "Corner House Ice Cream    52\n",
       "Burger King               51\n",
       "Polar Bear                48\n",
       "Smoor                     47\n",
       "Mani's Dum Biryani        47\n",
       "Pizza Stop                46\n",
       "Mainland China            45\n",
       "Chung Wah                 45\n",
       "Subway                    45\n",
       "Lakeview Milkbar          44\n",
       "eat.fit                   44\n",
       "Hammered                  44\n",
       "Name: name, dtype: int64"
      ]
     },
     "execution_count": 26,
     "metadata": {},
     "output_type": "execute_result"
    }
   ],
   "source": [
    "chains=df['name'].value_counts()[:20]\n",
    "chains"
   ]
  },
  {
   "cell_type": "code",
   "execution_count": 27,
   "id": "d8271d5d",
   "metadata": {
    "execution": {
     "iopub.execute_input": "2022-04-08T17:43:15.984032Z",
     "iopub.status.busy": "2022-04-08T17:43:15.983014Z",
     "iopub.status.idle": "2022-04-08T17:43:16.647723Z",
     "shell.execute_reply": "2022-04-08T17:43:16.648219Z",
     "shell.execute_reply.started": "2021-11-22T03:36:11.311688Z"
    },
    "executionInfo": {
     "elapsed": 1081,
     "status": "ok",
     "timestamp": 1637546431602,
     "user": {
      "displayName": "Harsh Pimpalkar",
      "photoUrl": "https://lh3.googleusercontent.com/a/default-user=s64",
      "userId": "00943371497075099378"
     },
     "user_tz": -330
    },
    "id": "AQrP0W1NMikw",
    "outputId": "d9e3f149-2412-4982-e322-0f9a14732695",
    "papermill": {
     "duration": 0.763638,
     "end_time": "2022-04-08T17:43:16.648403",
     "exception": false,
     "start_time": "2022-04-08T17:43:15.884765",
     "status": "completed"
    },
    "tags": []
   },
   "outputs": [
    {
     "data": {
      "text/plain": [
       "Text(0.5, 0, 'Number of Outlets')"
      ]
     },
     "execution_count": 27,
     "metadata": {},
     "output_type": "execute_result"
    },
    {
     "data": {
      "image/png": "[encoded data removed]",
      "text/plain": [
       "<Figure size 2000x1200 with 1 Axes>"
      ]
     },
     "metadata": {},
     "output_type": "display_data"
    }
   ],
   "source": [
    "## top 20 famous resturants \n",
    "\n",
    "plt.figure(figsize=(20,12))\n",
    "sns.barplot(x=chains, y=chains.index, palette='deep')\n",
    "plt.title(\"Most 20 famous resturants chains in Bangaluru\")\n",
    "plt.xlabel(\"Number of Outlets\")"
   ]
  },
  {
   "cell_type": "code",
   "execution_count": 28,
   "id": "045da0fa",
   "metadata": {
    "execution": {
     "iopub.execute_input": "2022-04-08T17:43:16.844870Z",
     "iopub.status.busy": "2022-04-08T17:43:16.843900Z",
     "iopub.status.idle": "2022-04-08T17:43:16.856340Z",
     "shell.execute_reply": "2022-04-08T17:43:16.857025Z",
     "shell.execute_reply.started": "2021-11-22T03:36:11.881283Z"
    },
    "executionInfo": {
     "elapsed": 25,
     "status": "ok",
     "timestamp": 1637546431604,
     "user": {
      "displayName": "Harsh Pimpalkar",
      "photoUrl": "https://lh3.googleusercontent.com/a/default-user=s64",
      "userId": "00943371497075099378"
     },
     "user_tz": -330
    },
    "id": "WeumoYyfNLLy",
    "outputId": "99ad90c5-046e-48d6-ac65-be8ef9f714bf",
    "papermill": {
     "duration": 0.112724,
     "end_time": "2022-04-08T17:43:16.857201",
     "exception": false,
     "start_time": "2022-04-08T17:43:16.744477",
     "status": "completed"
    },
    "tags": []
   },
   "outputs": [
    {
     "data": {
      "text/plain": [
       "Onesta                    85\n",
       "Empire Restaurant         67\n",
       "KFC                       59\n",
       "McDonald's                57\n",
       "Pizza Hut                 56\n",
       "Domino's Pizza            55\n",
       "Smally's Resto Cafe       54\n",
       "Faasos                    54\n",
       "Corner House Ice Cream    52\n",
       "Burger King               51\n",
       "Name: name, dtype: int64"
      ]
     },
     "execution_count": 28,
     "metadata": {},
     "output_type": "execute_result"
    }
   ],
   "source": [
    "chains_10 = df['name'].value_counts()[:10]\n",
    "chains_10"
   ]
  },
  {
   "cell_type": "code",
   "execution_count": 29,
   "id": "e8254d47",
   "metadata": {
    "execution": {
     "iopub.execute_input": "2022-04-08T17:43:17.056699Z",
     "iopub.status.busy": "2022-04-08T17:43:17.055602Z",
     "iopub.status.idle": "2022-04-08T17:43:17.334514Z",
     "shell.execute_reply": "2022-04-08T17:43:17.333760Z",
     "shell.execute_reply.started": "2021-11-22T03:36:11.89341Z"
    },
    "executionInfo": {
     "elapsed": 17,
     "status": "ok",
     "timestamp": 1637546431606,
     "user": {
      "displayName": "Harsh Pimpalkar",
      "photoUrl": "https://lh3.googleusercontent.com/a/default-user=s64",
      "userId": "00943371497075099378"
     },
     "user_tz": -330
    },
    "id": "Ok7wzxq_Okbi",
    "outputId": "3b93e1f7-700c-43af-e642-ffd8532f07ed",
    "papermill": {
     "duration": 0.380605,
     "end_time": "2022-04-08T17:43:17.334665",
     "exception": false,
     "start_time": "2022-04-08T17:43:16.954060",
     "status": "completed"
    },
    "tags": []
   },
   "outputs": [
    {
     "data": {
      "image/png": "[encoded data removed]",
      "text/plain": [
       "<Figure size 1500x800 with 1 Axes>"
      ]
     },
     "metadata": {},
     "output_type": "display_data"
    }
   ],
   "source": [
    "## visualizae the Famous 10 chains of resturants \n",
    "\n",
    "plt.figure(figsize=(15,8))\n",
    "sns.barplot(x=chains_10, y=chains_10.index, palette='deep')\n",
    "plt.title(\"Most Famous 10 Resturant Chains in Bangaluru\")\n",
    "plt.xlabel(\"Number of Outltets\")\n",
    "plt.show();"
   ]
  },
  {
   "cell_type": "markdown",
   "id": "5d7d8614",
   "metadata": {
    "id": "PODVyPK4PdI1",
    "papermill": {
     "duration": 0.095977,
     "end_time": "2022-04-08T17:43:17.527279",
     "exception": false,
     "start_time": "2022-04-08T17:43:17.431302",
     "status": "completed"
    },
    "tags": []
   },
   "source": [
    "Whether resturant offer Table booking or not "
   ]
  },
  {
   "cell_type": "code",
   "execution_count": 30,
   "id": "ca863f6e",
   "metadata": {},
   "outputs": [
    {
     "data": {
      "image/png": "[encoded data removed]",
      "text/plain": [
       "<Figure size 1000x600 with 2 Axes>"
      ]
     },
     "metadata": {},
     "output_type": "display_data"
    }
   ],
   "source": [
    "import matplotlib.pyplot as plt\n",
    "import seaborn as sns\n",
    "\n",
    "fig, ax = plt.subplots(1, 2, figsize=(10, 6))\n",
    "\n",
    "sns.countplot(data=df, x='book_table', ax=ax[0])\n",
    "ax[0].set_title('Book Table Counts')\n",
    "\n",
    "book_table_counts = df['book_table'].value_counts()\n",
    "ax[1].pie(book_table_counts, labels=book_table_counts.index, autopct='%1.2f%%', textprops={'fontsize': 12})\n",
    "ax[1].set_title('Book Tables Percentage')\n",
    "\n",
    "fig.suptitle('Book Table Analysis', fontsize=20)\n",
    "\n",
    "plt.show()"
   ]
  },
  {
   "cell_type": "markdown",
   "id": "fd2ae46a",
   "metadata": {
    "id": "ApRYdONtSr3L",
    "papermill": {
     "duration": 0.098347,
     "end_time": "2022-04-08T17:43:19.022177",
     "exception": false,
     "start_time": "2022-04-08T17:43:18.923830",
     "status": "completed"
    },
    "tags": []
   },
   "source": [
    "**Insight**\n",
    "\n",
    "Most of the Restaurants do not offer table booking"
   ]
  },
  {
   "cell_type": "markdown",
   "id": "e57ede33",
   "metadata": {
    "id": "Oea3fcqYS0ih",
    "papermill": {
     "duration": 0.097739,
     "end_time": "2022-04-08T17:43:19.217749",
     "exception": false,
     "start_time": "2022-04-08T17:43:19.120010",
     "status": "completed"
    },
    "tags": []
   },
   "source": [
    "Whether Resturants deliver online or Not"
   ]
  },
  {
   "cell_type": "code",
   "execution_count": 31,
   "id": "ea4ac936",
   "metadata": {},
   "outputs": [
    {
     "data": {
      "image/png": "[encoded data removed]",
      "text/plain": [
       "<Figure size 1000x600 with 2 Axes>"
      ]
     },
     "metadata": {},
     "output_type": "display_data"
    }
   ],
   "source": [
    "import matplotlib.pyplot as plt\n",
    "import seaborn as sns\n",
    "\n",
    "fig, ax = plt.subplots(1, 2, figsize=(10, 6))\n",
    "\n",
    "sns.countplot(data=df, x='online_order', ax=ax[0])\n",
    "ax[0].set_title('Online Order Counts')\n",
    "\n",
    "book_table_counts = df['online_order'].value_counts()\n",
    "ax[1].pie(book_table_counts, labels=book_table_counts.index, autopct='%1.2f%%', textprops={'fontsize': 12})\n",
    "ax[1].set_title('Online Order Percentage')\n",
    "\n",
    "fig.suptitle('Online Order Analysis', fontsize=20)\n",
    "\n",
    "plt.show()\n"
   ]
  },
  {
   "cell_type": "markdown",
   "id": "e4284c50",
   "metadata": {
    "id": "bTWGgu77Tf_S",
    "papermill": {
     "duration": 0.100152,
     "end_time": "2022-04-08T17:43:19.845892",
     "exception": false,
     "start_time": "2022-04-08T17:43:19.745740",
     "status": "completed"
    },
    "tags": []
   },
   "source": [
    "**Insight**\n",
    "\n",
    "Most Resturants offer option for online order and delivery"
   ]
  },
  {
   "cell_type": "markdown",
   "id": "eda5b45c",
   "metadata": {
    "id": "hSCVo3hSTp9U",
    "papermill": {
     "duration": 0.098921,
     "end_time": "2022-04-08T17:43:20.044843",
     "exception": false,
     "start_time": "2022-04-08T17:43:19.945922",
     "status": "completed"
    },
    "tags": []
   },
   "source": [
    "### **Ratings Distributions**"
   ]
  },
  {
   "cell_type": "code",
   "execution_count": 32,
   "id": "694f3d85",
   "metadata": {
    "execution": {
     "iopub.execute_input": "2022-04-08T17:43:20.246553Z",
     "iopub.status.busy": "2022-04-08T17:43:20.245865Z",
     "iopub.status.idle": "2022-04-08T17:43:20.751607Z",
     "shell.execute_reply": "2022-04-08T17:43:20.752110Z",
     "shell.execute_reply.started": "2021-11-22T03:36:13.231895Z"
    },
    "executionInfo": {
     "elapsed": 1137,
     "status": "ok",
     "timestamp": 1637546433380,
     "user": {
      "displayName": "Harsh Pimpalkar",
      "photoUrl": "https://lh3.googleusercontent.com/a/default-user=s64",
      "userId": "00943371497075099378"
     },
     "user_tz": -330
    },
    "id": "akankyvmTAIW",
    "outputId": "b6b537fb-2572-4c04-d8bc-e8fb31dcd68e",
    "papermill": {
     "duration": 0.609158,
     "end_time": "2022-04-08T17:43:20.752326",
     "exception": false,
     "start_time": "2022-04-08T17:43:20.143168",
     "status": "completed"
    },
    "tags": []
   },
   "outputs": [
    {
     "data": {
      "text/plain": [
       "<Axes: xlabel='rate', ylabel='Density'>"
      ]
     },
     "execution_count": 32,
     "metadata": {},
     "output_type": "execute_result"
    },
    {
     "data": {
      "image/png": "[encoded data removed]",
      "text/plain": [
       "<Figure size 1000x800 with 1 Axes>"
      ]
     },
     "metadata": {},
     "output_type": "display_data"
    }
   ],
   "source": [
    "plt.figure(figsize=(10,8))\n",
    "sns.distplot(df['rate'],bins=20)"
   ]
  },
  {
   "cell_type": "markdown",
   "id": "85b20dc1",
   "metadata": {
    "id": "PaIZMEH1UKfg",
    "papermill": {
     "duration": 0.099765,
     "end_time": "2022-04-08T17:43:20.952546",
     "exception": false,
     "start_time": "2022-04-08T17:43:20.852781",
     "status": "completed"
    },
    "tags": []
   },
   "source": [
    "**Insight**\n",
    "\n",
    "We can infer from above that most of the ratings are within 3.5 and 4.5"
   ]
  },
  {
   "cell_type": "code",
   "execution_count": 33,
   "id": "e1f43f66",
   "metadata": {
    "execution": {
     "iopub.execute_input": "2022-04-08T17:43:21.157028Z",
     "iopub.status.busy": "2022-04-08T17:43:21.156291Z",
     "iopub.status.idle": "2022-04-08T17:43:22.754951Z",
     "shell.execute_reply": "2022-04-08T17:43:22.755487Z",
     "shell.execute_reply.started": "2021-11-22T03:36:13.713467Z"
    },
    "executionInfo": {
     "elapsed": 4289,
     "status": "ok",
     "timestamp": 1637546437655,
     "user": {
      "displayName": "Harsh Pimpalkar",
      "photoUrl": "https://lh3.googleusercontent.com/a/default-user=s64",
      "userId": "00943371497075099378"
     },
     "user_tz": -330
    },
    "id": "emSYszOFT9rX",
    "outputId": "5279065d-db41-42a0-b9ac-11e089d17d26",
    "papermill": {
     "duration": 1.702332,
     "end_time": "2022-04-08T17:43:22.755664",
     "exception": false,
     "start_time": "2022-04-08T17:43:21.053332",
     "status": "completed"
    },
    "tags": []
   },
   "outputs": [
    {
     "data": {
      "image/png": "[encoded data removed]",
      "text/plain": [
       "<Figure size 2000x700 with 1 Axes>"
      ]
     },
     "metadata": {},
     "output_type": "display_data"
    }
   ],
   "source": [
    "## Distribution of the cost VS. Ratings in parallel with online order \n",
    "\n",
    "plt.figure(figsize=(20,7))\n",
    "sns.scatterplot(x=\"rate\",y=\"cost\",hue=\"online_order\",data=df)\n",
    "plt.title(\"Distribution of the Cost Vs. Ratings in Parallel with Online Order\")\n",
    "plt.xlabel(\"Ratings\")\n",
    "plt.show();"
   ]
  },
  {
   "cell_type": "markdown",
   "id": "7913e09c",
   "metadata": {
    "id": "NOmMet7gVKy6",
    "papermill": {
     "duration": 0.104017,
     "end_time": "2022-04-08T17:43:22.964726",
     "exception": false,
     "start_time": "2022-04-08T17:43:22.860709",
     "status": "completed"
    },
    "tags": []
   },
   "source": [
    "**Count of ratings as between \"1 and 2\", \"2 and 3\", \"3 and 4\", and \"4 and 5\"**"
   ]
  },
  {
   "cell_type": "code",
   "execution_count": 34,
   "id": "5a4800c8",
   "metadata": {
    "execution": {
     "iopub.execute_input": "2022-04-08T17:43:23.178953Z",
     "iopub.status.busy": "2022-04-08T17:43:23.177891Z",
     "iopub.status.idle": "2022-04-08T17:43:23.182920Z",
     "shell.execute_reply": "2022-04-08T17:43:23.183375Z",
     "shell.execute_reply.started": "2021-11-22T03:36:15.093105Z"
    },
    "executionInfo": {
     "elapsed": 124,
     "status": "ok",
     "timestamp": 1637546437656,
     "user": {
      "displayName": "Harsh Pimpalkar",
      "photoUrl": "https://lh3.googleusercontent.com/a/default-user=s64",
      "userId": "00943371497075099378"
     },
     "user_tz": -330
    },
    "id": "lbPdnGAeUpxx",
    "outputId": "7a7c654e-5794-47e7-89f8-c2a7a43e45ab",
    "papermill": {
     "duration": 0.115379,
     "end_time": "2022-04-08T17:43:23.183574",
     "exception": false,
     "start_time": "2022-04-08T17:43:23.068195",
     "status": "completed"
    },
    "tags": []
   },
   "outputs": [
    {
     "data": {
      "text/plain": [
       "array(['4.1', '3.8', '3.7', '4.6', '4.0', '4.2', '3.9', '3.0', '3.6',\n",
       "       '2.8', '4.4', '3.1', '4.3', '2.6', '3.3', '3.5', '3.8 ', '3.2',\n",
       "       '4.5', '2.5', '2.9', '3.4', '2.7', '4.7', '2.4', '2.2', '2.3',\n",
       "       '4.8', '3.9 ', '4.2 ', '4.0 ', '4.1 ', '2.9 ', '2.7 ', '2.5 ',\n",
       "       '2.6 ', '4.5 ', '4.3 ', '3.7 ', '4.4 ', '4.9', '2.1', '2.0', '1.8',\n",
       "       '3.4 ', '3.6 ', '3.3 ', '4.6 ', '4.9 ', '3.2 ', '3.0 ', '2.8 ',\n",
       "       '3.5 ', '3.1 ', '4.8 ', '2.3 ', '4.7 ', '2.4 ', '2.1 ', '2.2 ',\n",
       "       '2.0 ', '1.8 '], dtype=object)"
      ]
     },
     "execution_count": 34,
     "metadata": {},
     "output_type": "execute_result"
    }
   ],
   "source": [
    "df['rate'].unique()"
   ]
  },
  {
   "cell_type": "code",
   "execution_count": 35,
   "id": "012cff21",
   "metadata": {
    "execution": {
     "iopub.execute_input": "2022-04-08T17:43:23.401615Z",
     "iopub.status.busy": "2022-04-08T17:43:23.394472Z",
     "iopub.status.idle": "2022-04-08T17:43:23.404437Z",
     "shell.execute_reply": "2022-04-08T17:43:23.404949Z",
     "shell.execute_reply.started": "2021-11-22T03:36:15.101909Z"
    },
    "executionInfo": {
     "elapsed": 119,
     "status": "ok",
     "timestamp": 1637546437658,
     "user": {
      "displayName": "Harsh Pimpalkar",
      "photoUrl": "https://lh3.googleusercontent.com/a/default-user=s64",
      "userId": "00943371497075099378"
     },
     "user_tz": -330
    },
    "id": "Jfv8XddcVXKO",
    "outputId": "57c20ef3-d02d-4110-a747-5f619b08b41d",
    "papermill": {
     "duration": 0.116877,
     "end_time": "2022-04-08T17:43:23.405115",
     "exception": false,
     "start_time": "2022-04-08T17:43:23.288238",
     "status": "completed"
    },
    "tags": []
   },
   "outputs": [
    {
     "data": {
      "text/plain": [
       "'1.8'"
      ]
     },
     "execution_count": 35,
     "metadata": {},
     "output_type": "execute_result"
    }
   ],
   "source": [
    "df['rate'].min()"
   ]
  },
  {
   "cell_type": "code",
   "execution_count": 36,
   "id": "93cfe4b0",
   "metadata": {
    "execution": {
     "iopub.execute_input": "2022-04-08T17:43:23.627327Z",
     "iopub.status.busy": "2022-04-08T17:43:23.622582Z",
     "iopub.status.idle": "2022-04-08T17:43:23.633357Z",
     "shell.execute_reply": "2022-04-08T17:43:23.634095Z",
     "shell.execute_reply.started": "2021-11-22T03:36:15.115875Z"
    },
    "executionInfo": {
     "elapsed": 118,
     "status": "ok",
     "timestamp": 1637546437659,
     "user": {
      "displayName": "Harsh Pimpalkar",
      "photoUrl": "https://lh3.googleusercontent.com/a/default-user=s64",
      "userId": "00943371497075099378"
     },
     "user_tz": -330
    },
    "id": "LL_EpFOsVZiU",
    "outputId": "30cb8e92-c200-469c-9278-8be57b42f0f2",
    "papermill": {
     "duration": 0.125691,
     "end_time": "2022-04-08T17:43:23.634301",
     "exception": false,
     "start_time": "2022-04-08T17:43:23.508610",
     "status": "completed"
    },
    "tags": []
   },
   "outputs": [
    {
     "data": {
      "text/plain": [
       "'4.9 '"
      ]
     },
     "execution_count": 36,
     "metadata": {},
     "output_type": "execute_result"
    }
   ],
   "source": [
    "df['rate'].max()"
   ]
  },
  {
   "cell_type": "code",
   "execution_count": 37,
   "id": "370f3265",
   "metadata": {
    "execution": {
     "iopub.execute_input": "2022-04-08T17:43:23.861110Z",
     "iopub.status.busy": "2022-04-08T17:43:23.860111Z",
     "iopub.status.idle": "2022-04-08T17:43:23.872980Z",
     "shell.execute_reply": "2022-04-08T17:43:23.873585Z",
     "shell.execute_reply.started": "2021-11-22T03:36:15.128341Z"
    },
    "executionInfo": {
     "elapsed": 114,
     "status": "ok",
     "timestamp": 1637546437661,
     "user": {
      "displayName": "Harsh Pimpalkar",
      "photoUrl": "https://lh3.googleusercontent.com/a/default-user=s64",
      "userId": "00943371497075099378"
     },
     "user_tz": -330
    },
    "id": "fvJJzUh7VcBX",
    "papermill": {
     "duration": 0.120899,
     "end_time": "2022-04-08T17:43:23.873798",
     "exception": false,
     "start_time": "2022-04-08T17:43:23.752899",
     "status": "completed"
    },
    "tags": []
   },
   "outputs": [],
   "source": [
    "df['rate'] = df['rate'].astype(float)"
   ]
  },
  {
   "cell_type": "code",
   "execution_count": 38,
   "id": "5b139b03",
   "metadata": {
    "execution": {
     "iopub.execute_input": "2022-04-08T17:43:24.089639Z",
     "iopub.status.busy": "2022-04-08T17:43:24.088632Z",
     "iopub.status.idle": "2022-04-08T17:43:24.096020Z",
     "shell.execute_reply": "2022-04-08T17:43:24.096638Z",
     "shell.execute_reply.started": "2021-11-22T03:36:15.146208Z"
    },
    "executionInfo": {
     "elapsed": 116,
     "status": "ok",
     "timestamp": 1637546437663,
     "user": {
      "displayName": "Harsh Pimpalkar",
      "photoUrl": "https://lh3.googleusercontent.com/a/default-user=s64",
      "userId": "00943371497075099378"
     },
     "user_tz": -330
    },
    "id": "ENgznVh2Vhk_",
    "outputId": "79840f43-a79b-4fad-dd5a-0689d2fc3685",
    "papermill": {
     "duration": 0.116425,
     "end_time": "2022-04-08T17:43:24.096843",
     "exception": false,
     "start_time": "2022-04-08T17:43:23.980418",
     "status": "completed"
    },
    "tags": []
   },
   "outputs": [
    {
     "data": {
      "text/plain": [
       "5"
      ]
     },
     "execution_count": 38,
     "metadata": {},
     "output_type": "execute_result"
    }
   ],
   "source": [
    "((df['rate']>=1) & (df['rate']<2)).sum()"
   ]
  },
  {
   "cell_type": "code",
   "execution_count": 39,
   "id": "14854da9",
   "metadata": {
    "execution": {
     "iopub.execute_input": "2022-04-08T17:43:24.311108Z",
     "iopub.status.busy": "2022-04-08T17:43:24.310096Z",
     "iopub.status.idle": "2022-04-08T17:43:24.317069Z",
     "shell.execute_reply": "2022-04-08T17:43:24.317689Z",
     "shell.execute_reply.started": "2021-11-22T03:36:15.156692Z"
    },
    "executionInfo": {
     "elapsed": 111,
     "status": "ok",
     "timestamp": 1637546437664,
     "user": {
      "displayName": "Harsh Pimpalkar",
      "photoUrl": "https://lh3.googleusercontent.com/a/default-user=s64",
      "userId": "00943371497075099378"
     },
     "user_tz": -330
    },
    "id": "CaMkisOfVqaU",
    "outputId": "ee4de6d5-3b6e-4849-b977-d636f28b6953",
    "papermill": {
     "duration": 0.116464,
     "end_time": "2022-04-08T17:43:24.317862",
     "exception": false,
     "start_time": "2022-04-08T17:43:24.201398",
     "status": "completed"
    },
    "tags": []
   },
   "outputs": [
    {
     "data": {
      "text/plain": [
       "1179"
      ]
     },
     "execution_count": 39,
     "metadata": {},
     "output_type": "execute_result"
    }
   ],
   "source": [
    "((df['rate']>=2)&(df['rate']<3)).sum()"
   ]
  },
  {
   "cell_type": "code",
   "execution_count": 40,
   "id": "24e9f38a",
   "metadata": {
    "execution": {
     "iopub.execute_input": "2022-04-08T17:43:24.533668Z",
     "iopub.status.busy": "2022-04-08T17:43:24.532672Z",
     "iopub.status.idle": "2022-04-08T17:43:24.539382Z",
     "shell.execute_reply": "2022-04-08T17:43:24.539993Z",
     "shell.execute_reply.started": "2021-11-22T03:36:15.168853Z"
    },
    "executionInfo": {
     "elapsed": 106,
     "status": "ok",
     "timestamp": 1637546437665,
     "user": {
      "displayName": "Harsh Pimpalkar",
      "photoUrl": "https://lh3.googleusercontent.com/a/default-user=s64",
      "userId": "00943371497075099378"
     },
     "user_tz": -330
    },
    "id": "l8sEVkBKVxUl",
    "outputId": "012ad04e-5be4-4b20-861a-937ae9c8c28b",
    "papermill": {
     "duration": 0.117369,
     "end_time": "2022-04-08T17:43:24.540166",
     "exception": false,
     "start_time": "2022-04-08T17:43:24.422797",
     "status": "completed"
    },
    "tags": []
   },
   "outputs": [
    {
     "data": {
      "text/plain": [
       "10153"
      ]
     },
     "execution_count": 40,
     "metadata": {},
     "output_type": "execute_result"
    }
   ],
   "source": [
    "((df['rate']>=3) & (df['rate']<4)).sum()\n"
   ]
  },
  {
   "cell_type": "code",
   "execution_count": 41,
   "id": "5708842e",
   "metadata": {
    "execution": {
     "iopub.execute_input": "2022-04-08T17:43:24.755775Z",
     "iopub.status.busy": "2022-04-08T17:43:24.754720Z",
     "iopub.status.idle": "2022-04-08T17:43:24.761841Z",
     "shell.execute_reply": "2022-04-08T17:43:24.762404Z",
     "shell.execute_reply.started": "2021-11-22T03:36:15.17991Z"
    },
    "executionInfo": {
     "elapsed": 103,
     "status": "ok",
     "timestamp": 1637546437667,
     "user": {
      "displayName": "Harsh Pimpalkar",
      "photoUrl": "https://lh3.googleusercontent.com/a/default-user=s64",
      "userId": "00943371497075099378"
     },
     "user_tz": -330
    },
    "id": "jnjlPn8fV3QU",
    "outputId": "63d51929-71bf-4547-ee33-6f8841ad1f56",
    "papermill": {
     "duration": 0.116359,
     "end_time": "2022-04-08T17:43:24.762596",
     "exception": false,
     "start_time": "2022-04-08T17:43:24.646237",
     "status": "completed"
    },
    "tags": []
   },
   "outputs": [
    {
     "data": {
      "text/plain": [
       "11911"
      ]
     },
     "execution_count": 41,
     "metadata": {},
     "output_type": "execute_result"
    }
   ],
   "source": [
    "((df['rate']>=4) &  (df['rate']<5)).sum()"
   ]
  },
  {
   "cell_type": "markdown",
   "id": "a5aa06b9",
   "metadata": {
    "id": "-V-y-wmoV-Z4",
    "papermill": {
     "duration": 0.105416,
     "end_time": "2022-04-08T17:43:24.976021",
     "exception": false,
     "start_time": "2022-04-08T17:43:24.870605",
     "status": "completed"
    },
    "tags": []
   },
   "source": [
    "**Plotting the counts with the help of pie chart**"
   ]
  },
  {
   "cell_type": "code",
   "execution_count": 42,
   "id": "5813fecd",
   "metadata": {
    "execution": {
     "iopub.execute_input": "2022-04-08T17:43:25.190792Z",
     "iopub.status.busy": "2022-04-08T17:43:25.189762Z",
     "iopub.status.idle": "2022-04-08T17:43:25.357183Z",
     "shell.execute_reply": "2022-04-08T17:43:25.357726Z",
     "shell.execute_reply.started": "2021-11-22T03:36:15.191093Z"
    },
    "executionInfo": {
     "elapsed": 99,
     "status": "ok",
     "timestamp": 1637546437668,
     "user": {
      "displayName": "Harsh Pimpalkar",
      "photoUrl": "https://lh3.googleusercontent.com/a/default-user=s64",
      "userId": "00943371497075099378"
     },
     "user_tz": -330
    },
    "id": "trkyxoPfV8aR",
    "outputId": "8b951ca1-b5e3-4e99-df37-677d48e83ae2",
    "papermill": {
     "duration": 0.276619,
     "end_time": "2022-04-08T17:43:25.357902",
     "exception": false,
     "start_time": "2022-04-08T17:43:25.081283",
     "status": "completed"
    },
    "tags": []
   },
   "outputs": [
    {
     "data": {
      "image/png": "[encoded data removed]",
      "text/plain": [
       "<Figure size 600x600 with 1 Axes>"
      ]
     },
     "metadata": {},
     "output_type": "display_data"
    }
   ],
   "source": [
    "slices =[((df['rate']>=1) & (df['rate']<2)).sum(),\n",
    "         ((df['rate']>=2) & (df['rate']<3)).sum(),\n",
    "         ((df['rate']>=3) & (df['rate']<4)).sum(),\n",
    "         (df['rate']>=4).sum()]\n",
    "\n",
    "labels =['1<Ratings<2','2<Ratings<3','3<Ratings<4','Ratings>4']\n",
    "colors = ['b','y','c']   \n",
    "plt.pie(slices, colors=colors, labels=labels, autopct=\"%1.0f%%\",pctdistance=0.5,labeldistance=1.2, shadow=True); \n",
    "fig=plt.gcf()\n",
    "plt.title(\"Percentage of Resturants according to their ratings\")\n",
    "\n",
    "fig.set_size_inches(6,6)\n",
    "plt.show();"
   ]
  },
  {
   "cell_type": "markdown",
   "id": "6efb72f8",
   "metadata": {
    "id": "n7zjBqEiaXsL",
    "papermill": {
     "duration": 0.106506,
     "end_time": "2022-04-08T17:43:25.571267",
     "exception": false,
     "start_time": "2022-04-08T17:43:25.464761",
     "status": "completed"
    },
    "tags": []
   },
   "source": [
    "## **Service Types**"
   ]
  },
  {
   "cell_type": "code",
   "execution_count": 43,
   "id": "23115ea1",
   "metadata": {},
   "outputs": [
    {
     "data": {
      "image/png": "[encoded data removed]",
      "text/plain": [
       "<Figure size 1000x600 with 1 Axes>"
      ]
     },
     "metadata": {},
     "output_type": "display_data"
    }
   ],
   "source": [
    "## types of Services\n",
    "\n",
    "plt.figure(figsize=(10, 6))\n",
    "sns.countplot(x='type', data=df)\n",
    "plt.title('Countplot of Type', fontsize=15)\n",
    "plt.xlabel('Type', fontsize=12)\n",
    "plt.ylabel('Count', fontsize=12)\n",
    "plt.show()\n"
   ]
  },
  {
   "cell_type": "markdown",
   "id": "6521829b",
   "metadata": {
    "id": "NEFOs-Ggaork",
    "papermill": {
     "duration": 0.108318,
     "end_time": "2022-04-08T17:43:26.289745",
     "exception": false,
     "start_time": "2022-04-08T17:43:26.181427",
     "status": "completed"
    },
    "tags": []
   },
   "source": [
    "**Insight**\n",
    "\n",
    "Here the two main service types are **Delivery** and **Dine-out**.\n"
   ]
  },
  {
   "cell_type": "markdown",
   "id": "dd573399",
   "metadata": {
    "id": "ohTTQI-tcX32",
    "papermill": {
     "duration": 0.113603,
     "end_time": "2022-04-08T17:43:27.231541",
     "exception": false,
     "start_time": "2022-04-08T17:43:27.117938",
     "status": "completed"
    },
    "tags": []
   },
   "source": [
    "**Distribution of Charges**"
   ]
  },
  {
   "cell_type": "code",
   "execution_count": 44,
   "id": "86b4d012",
   "metadata": {
    "execution": {
     "iopub.execute_input": "2022-04-08T17:43:27.463166Z",
     "iopub.status.busy": "2022-04-08T17:43:27.462492Z",
     "iopub.status.idle": "2022-04-08T17:43:28.129650Z",
     "shell.execute_reply": "2022-04-08T17:43:28.129116Z",
     "shell.execute_reply.started": "2021-11-22T03:36:15.657195Z"
    },
    "executionInfo": {
     "elapsed": 106,
     "status": "ok",
     "timestamp": 1637546437681,
     "user": {
      "displayName": "Harsh Pimpalkar",
      "photoUrl": "https://lh3.googleusercontent.com/a/default-user=s64",
      "userId": "00943371497075099378"
     },
     "user_tz": -330
    },
    "id": "Jr7mA3pcbyvl",
    "outputId": "6fc033b2-3885-4f36-a6f0-2fde80675985",
    "papermill": {
     "duration": 0.784097,
     "end_time": "2022-04-08T17:43:28.129807",
     "exception": false,
     "start_time": "2022-04-08T17:43:27.345710",
     "status": "completed"
    },
    "tags": []
   },
   "outputs": [
    {
     "data": {
      "image/png": "[encoded data removed]",
      "text/plain": [
       "<Figure size 800x800 with 1 Axes>"
      ]
     },
     "metadata": {},
     "output_type": "display_data"
    }
   ],
   "source": [
    "plt.figure(figsize=(8,8))\n",
    "sns.distplot(df['cost'])\n",
    "plt.show()"
   ]
  },
  {
   "cell_type": "markdown",
   "id": "aa0fba65",
   "metadata": {
    "id": "zJKBhlWHcoAq",
    "papermill": {
     "duration": 0.113709,
     "end_time": "2022-04-08T17:43:28.357366",
     "exception": false,
     "start_time": "2022-04-08T17:43:28.243657",
     "status": "completed"
    },
    "tags": []
   },
   "source": [
    "## **Most Likes Dishes**"
   ]
  },
  {
   "cell_type": "code",
   "execution_count": 45,
   "id": "99f86b13",
   "metadata": {
    "execution": {
     "iopub.execute_input": "2022-04-08T17:43:28.587381Z",
     "iopub.status.busy": "2022-04-08T17:43:28.586627Z",
     "iopub.status.idle": "2022-04-08T17:43:28.602176Z",
     "shell.execute_reply": "2022-04-08T17:43:28.602811Z",
     "shell.execute_reply.started": "2021-11-22T03:36:16.254903Z"
    },
    "executionInfo": {
     "elapsed": 105,
     "status": "ok",
     "timestamp": 1637546437682,
     "user": {
      "displayName": "Harsh Pimpalkar",
      "photoUrl": "https://lh3.googleusercontent.com/a/default-user=s64",
      "userId": "00943371497075099378"
     },
     "user_tz": -330
    },
    "id": "O_xP11DwezAc",
    "outputId": "6fc25193-aee2-4e49-e415-9cd9593adc9d",
    "papermill": {
     "duration": 0.132349,
     "end_time": "2022-04-08T17:43:28.603014",
     "exception": false,
     "start_time": "2022-04-08T17:43:28.470665",
     "status": "completed"
    },
    "tags": []
   },
   "outputs": [
    {
     "data": {
      "text/plain": [
       "Biryani                                                                                                                 179\n",
       "Friendly Staff                                                                                                           68\n",
       "Waffles                                                                                                                  67\n",
       "Chicken Biryani                                                                                                          66\n",
       "Masala Dosa                                                                                                              56\n",
       "                                                                                                                       ... \n",
       "Tea, Coffee, Kadala Curry, Chicken Dum Biryani, Shawarma, Ghee Rice, Chicken Kebab                                        1\n",
       "Gulab Jamun, Mint Raita, Mutton Biryani, Basmati Rice, Paneer Subz Biryani, Gosht Dum Biryani                             1\n",
       "Garlic Bread, Nachos, Pasta, Thin Crust Pizza, Hawaian Pizza, Manali Pizza                                                1\n",
       "Chicken Cheese Sandwich, Cheese Sandwiches, Chocolate Sandwich, Chocolate Sandwiches, French Fries, Teriyaki Chicken      1\n",
       "Pasta, Seafood Pizza, Mocktails, Brownie, Tenderloin Burger, Burgers, Exotic Veg Pizza                                    1\n",
       "Name: dish_liked, Length: 5194, dtype: int64"
      ]
     },
     "execution_count": 45,
     "metadata": {},
     "output_type": "execute_result"
    }
   ],
   "source": [
    "df['dish_liked'].value_counts()"
   ]
  },
  {
   "cell_type": "code",
   "execution_count": 46,
   "id": "eac62f78",
   "metadata": {
    "execution": {
     "iopub.execute_input": "2022-04-08T17:43:28.841091Z",
     "iopub.status.busy": "2022-04-08T17:43:28.840056Z",
     "iopub.status.idle": "2022-04-08T17:43:29.097653Z",
     "shell.execute_reply": "2022-04-08T17:43:29.098222Z",
     "shell.execute_reply.started": "2021-11-22T03:36:16.269291Z"
    },
    "executionInfo": {
     "elapsed": 100,
     "status": "ok",
     "timestamp": 1637546437684,
     "user": {
      "displayName": "Harsh Pimpalkar",
      "photoUrl": "https://lh3.googleusercontent.com/a/default-user=s64",
      "userId": "00943371497075099378"
     },
     "user_tz": -330
    },
    "id": "SawXRdj5cjj1",
    "papermill": {
     "duration": 0.376542,
     "end_time": "2022-04-08T17:43:29.098404",
     "exception": false,
     "start_time": "2022-04-08T17:43:28.721862",
     "status": "completed"
    },
    "tags": []
   },
   "outputs": [],
   "source": [
    "import re \n",
    "\n",
    "df.index = range(df.shape[0])\n",
    "likes=[]\n",
    "for i in range(df.shape[0]):\n",
    "  array_split=re.split(',',df['dish_liked'][i])\n",
    "  for item in array_split:\n",
    "    likes.append(item)"
   ]
  },
  {
   "cell_type": "code",
   "execution_count": 47,
   "id": "976bf293",
   "metadata": {
    "execution": {
     "iopub.execute_input": "2022-04-08T17:43:29.330597Z",
     "iopub.status.busy": "2022-04-08T17:43:29.329562Z",
     "iopub.status.idle": "2022-04-08T17:43:29.333737Z",
     "shell.execute_reply": "2022-04-08T17:43:29.334257Z",
     "shell.execute_reply.started": "2021-11-22T03:36:16.468444Z"
    },
    "executionInfo": {
     "elapsed": 101,
     "status": "ok",
     "timestamp": 1637546437685,
     "user": {
      "displayName": "Harsh Pimpalkar",
      "photoUrl": "https://lh3.googleusercontent.com/a/default-user=s64",
      "userId": "00943371497075099378"
     },
     "user_tz": -330
    },
    "id": "FPYG1v0BeGX6",
    "papermill": {
     "duration": 0.12264,
     "end_time": "2022-04-08T17:43:29.334429",
     "exception": false,
     "start_time": "2022-04-08T17:43:29.211789",
     "status": "completed"
    },
    "tags": []
   },
   "outputs": [],
   "source": [
    "df.index = range(df.shape[0])"
   ]
  },
  {
   "cell_type": "code",
   "execution_count": 48,
   "id": "6359b6e7",
   "metadata": {
    "execution": {
     "iopub.execute_input": "2022-04-08T17:43:29.565064Z",
     "iopub.status.busy": "2022-04-08T17:43:29.564022Z",
     "iopub.status.idle": "2022-04-08T17:43:29.569499Z",
     "shell.execute_reply": "2022-04-08T17:43:29.570061Z",
     "shell.execute_reply.started": "2021-11-22T03:36:16.474781Z"
    },
    "executionInfo": {
     "elapsed": 103,
     "status": "ok",
     "timestamp": 1637546437688,
     "user": {
      "displayName": "Harsh Pimpalkar",
      "photoUrl": "https://lh3.googleusercontent.com/a/default-user=s64",
      "userId": "00943371497075099378"
     },
     "user_tz": -330
    },
    "id": "Dy6eJRrHebez",
    "outputId": "bb045ee0-c0b6-4767-ca07-d9ecbaa82684",
    "papermill": {
     "duration": 0.122463,
     "end_time": "2022-04-08T17:43:29.570228",
     "exception": false,
     "start_time": "2022-04-08T17:43:29.447765",
     "status": "completed"
    },
    "tags": []
   },
   "outputs": [
    {
     "data": {
      "text/plain": [
       "RangeIndex(start=0, stop=23248, step=1)"
      ]
     },
     "execution_count": 48,
     "metadata": {},
     "output_type": "execute_result"
    }
   ],
   "source": [
    "df.index"
   ]
  },
  {
   "cell_type": "code",
   "execution_count": 49,
   "id": "59071bd7",
   "metadata": {
    "execution": {
     "iopub.execute_input": "2022-04-08T17:43:29.802649Z",
     "iopub.status.busy": "2022-04-08T17:43:29.801563Z",
     "iopub.status.idle": "2022-04-08T17:43:29.853156Z",
     "shell.execute_reply": "2022-04-08T17:43:29.853690Z",
     "shell.execute_reply.started": "2021-11-22T03:36:16.488273Z"
    },
    "executionInfo": {
     "elapsed": 100,
     "status": "ok",
     "timestamp": 1637546437690,
     "user": {
      "displayName": "Harsh Pimpalkar",
      "photoUrl": "https://lh3.googleusercontent.com/a/default-user=s64",
      "userId": "00943371497075099378"
     },
     "user_tz": -330
    },
    "id": "3Rp7j2yQecl6",
    "outputId": "b755af8b-0e83-4db3-f1f1-f395cf01e363",
    "papermill": {
     "duration": 0.170137,
     "end_time": "2022-04-08T17:43:29.853876",
     "exception": false,
     "start_time": "2022-04-08T17:43:29.683739",
     "status": "completed"
    },
    "tags": []
   },
   "outputs": [
    {
     "name": "stdout",
     "output_type": "stream",
     "text": [
      "Count of most likes dishes in Bangalore\n"
     ]
    },
    {
     "data": {
      "text/plain": [
       " Pasta              2692\n",
       " Pizza              1915\n",
       " Cocktails          1880\n",
       " Burgers            1736\n",
       " Mocktails          1623\n",
       " Biryani            1307\n",
       " Sandwiches         1287\n",
       "Burgers             1256\n",
       " Coffee             1184\n",
       " Nachos             1170\n",
       " Fish               1116\n",
       " Paratha            1107\n",
       " Salads             1055\n",
       " Chicken Biryani    1004\n",
       "Cocktails            891\n",
       " Fries               876\n",
       " Noodles             854\n",
       " Beer                835\n",
       " Mutton Biryani      832\n",
       " Tea                 819\n",
       "Coffee               801\n",
       " Sandwich            788\n",
       " Butter Chicken      782\n",
       " Thali               770\n",
       "Biryani              749\n",
       "Pizza                747\n",
       " Roti                729\n",
       " Brownie             726\n",
       " Salad               677\n",
       " Hot Chocolate       672\n",
       "dtype: int64"
      ]
     },
     "execution_count": 49,
     "metadata": {},
     "output_type": "execute_result"
    }
   ],
   "source": [
    "print(\"Count of most likes dishes in Bangalore\")\n",
    "fev_food = pd.Series(likes).value_counts()[:30]\n",
    "fev_food"
   ]
  },
  {
   "cell_type": "code",
   "execution_count": 50,
   "id": "dcbbaa0f",
   "metadata": {
    "execution": {
     "iopub.execute_input": "2022-04-08T17:43:30.090183Z",
     "iopub.status.busy": "2022-04-08T17:43:30.089161Z",
     "iopub.status.idle": "2022-04-08T17:43:30.574903Z",
     "shell.execute_reply": "2022-04-08T17:43:30.575414Z",
     "shell.execute_reply.started": "2021-11-22T03:36:16.534186Z"
    },
    "executionInfo": {
     "elapsed": 1286,
     "status": "ok",
     "timestamp": 1637546438881,
     "user": {
      "displayName": "Harsh Pimpalkar",
      "photoUrl": "https://lh3.googleusercontent.com/a/default-user=s64",
      "userId": "00943371497075099378"
     },
     "user_tz": -330
    },
    "id": "PUsD23aEepG8",
    "outputId": "98acc809-85ce-48fc-95ca-ff231683da0f",
    "papermill": {
     "duration": 0.60502,
     "end_time": "2022-04-08T17:43:30.575626",
     "exception": false,
     "start_time": "2022-04-08T17:43:29.970606",
     "status": "completed"
    },
    "tags": []
   },
   "outputs": [
    {
     "data": {
      "image/png": "[encoded data removed]",
      "text/plain": [
       "<Figure size 1800x1000 with 1 Axes>"
      ]
     },
     "metadata": {},
     "output_type": "display_data"
    }
   ],
   "source": [
    "ax = fev_food.nlargest(n=20, keep='first').plot(kind='bar',figsize=(18,10) ,title=\"Top 30 Fev's Food Count\")\n",
    "for i in ax.patches:\n",
    "  ax.annotate(str(i.get_height()),(i.get_x() * 1.005, i.get_height() * 1.005))\n"
   ]
  },
  {
   "cell_type": "markdown",
   "id": "7102f6b7",
   "metadata": {
    "id": "jubFOrIdUc4t",
    "papermill": {
     "duration": 0.116718,
     "end_time": "2022-04-08T17:43:30.808091",
     "exception": false,
     "start_time": "2022-04-08T17:43:30.691373",
     "status": "completed"
    },
    "tags": []
   },
   "source": [
    "**Insight**\n",
    "\n",
    "Top 5 most liked dishes are **pasta, Pizza, Cocktails, Burgers,** and **Mocktails**"
   ]
  },
  {
   "cell_type": "markdown",
   "id": "5d5e58a4",
   "metadata": {
    "id": "EhJ-eh5-UvgU",
    "papermill": {
     "duration": 0.118444,
     "end_time": "2022-04-08T17:43:31.042609",
     "exception": false,
     "start_time": "2022-04-08T17:43:30.924165",
     "status": "completed"
    },
    "tags": []
   },
   "source": [
    "**Restaurant and their counts**"
   ]
  },
  {
   "cell_type": "code",
   "execution_count": 51,
   "id": "e7810fdc",
   "metadata": {},
   "outputs": [
    {
     "data": {
      "image/png": "[encoded data removed]",
      "text/plain": [
       "<Figure size 2000x1000 with 1 Axes>"
      ]
     },
     "metadata": {},
     "output_type": "display_data"
    }
   ],
   "source": [
    "fig = plt.figure(figsize=(20, 10))\n",
    "rest = sns.countplot(x=\"rest_type\", data=df, order=df['rest_type'].value_counts().index[0:5], palette=\"Set1\")\n",
    "rest.set_xticklabels(rest.get_xticklabels(), rotation=90, ha=\"right\")\n",
    "plt.ylabel(\"Frequency\", size=15)\n",
    "plt.xlabel(\"Restaurant type\", size=15)\n",
    "plt.title('Restaurant types', fontsize=20, pad=20)\n",
    "plt.show()\n"
   ]
  },
  {
   "cell_type": "markdown",
   "id": "2717dc10",
   "metadata": {
    "id": "1V5Xs7NCVKHT",
    "papermill": {
     "duration": 0.117426,
     "end_time": "2022-04-08T17:43:31.969988",
     "exception": false,
     "start_time": "2022-04-08T17:43:31.852562",
     "status": "completed"
    },
    "tags": []
   },
   "source": [
    "**Casual Dinning, Quick Bites** and **Cafe** are the 3 most common types of Resturants in Banglore."
   ]
  },
  {
   "cell_type": "markdown",
   "id": "252c2024",
   "metadata": {
    "id": "Ta21pGLiVZpi",
    "papermill": {
     "duration": 0.117455,
     "end_time": "2022-04-08T17:43:32.205122",
     "exception": false,
     "start_time": "2022-04-08T17:43:32.087667",
     "status": "completed"
    },
    "tags": []
   },
   "source": [
    "### **Building Our Model**"
   ]
  },
  {
   "cell_type": "code",
   "execution_count": 52,
   "id": "f5e2a95f",
   "metadata": {
    "execution": {
     "iopub.execute_input": "2022-04-08T17:43:32.444783Z",
     "iopub.status.busy": "2022-04-08T17:43:32.444085Z",
     "iopub.status.idle": "2022-04-08T17:43:32.463395Z",
     "shell.execute_reply": "2022-04-08T17:43:32.463972Z",
     "shell.execute_reply.started": "2021-11-22T03:36:17.367811Z"
    },
    "executionInfo": {
     "elapsed": 97,
     "status": "ok",
     "timestamp": 1637546438885,
     "user": {
      "displayName": "Harsh Pimpalkar",
      "photoUrl": "https://lh3.googleusercontent.com/a/default-user=s64",
      "userId": "00943371497075099378"
     },
     "user_tz": -330
    },
    "id": "6sqkEm7eVEgP",
    "outputId": "c9552567-5f78-424b-b1c0-3115374ed588",
    "papermill": {
     "duration": 0.140313,
     "end_time": "2022-04-08T17:43:32.464149",
     "exception": false,
     "start_time": "2022-04-08T17:43:32.323836",
     "status": "completed"
    },
    "tags": []
   },
   "outputs": [
    {
     "data": {
      "text/html": [
       "<div>\n",
       "<style scoped>\n",
       "    .dataframe tbody tr th:only-of-type {\n",
       "        vertical-align: middle;\n",
       "    }\n",
       "\n",
       "    .dataframe tbody tr th {\n",
       "        vertical-align: top;\n",
       "    }\n",
       "\n",
       "    .dataframe thead th {\n",
       "        text-align: right;\n",
       "    }\n",
       "</style>\n",
       "<table border=\"1\" class=\"dataframe\">\n",
       "  <thead>\n",
       "    <tr style=\"text-align: right;\">\n",
       "      <th></th>\n",
       "      <th>address</th>\n",
       "      <th>name</th>\n",
       "      <th>online_order</th>\n",
       "      <th>book_table</th>\n",
       "      <th>rate</th>\n",
       "      <th>votes</th>\n",
       "      <th>location</th>\n",
       "      <th>rest_type</th>\n",
       "      <th>dish_liked</th>\n",
       "      <th>cuisines</th>\n",
       "      <th>cost</th>\n",
       "      <th>reviews_list</th>\n",
       "      <th>menu_item</th>\n",
       "      <th>type</th>\n",
       "      <th>city</th>\n",
       "    </tr>\n",
       "  </thead>\n",
       "  <tbody>\n",
       "    <tr>\n",
       "      <th>0</th>\n",
       "      <td>942, 21st Main Road, 2nd Stage, Banashankari, ...</td>\n",
       "      <td>Jalsa</td>\n",
       "      <td>Yes</td>\n",
       "      <td>Yes</td>\n",
       "      <td>4.1</td>\n",
       "      <td>775</td>\n",
       "      <td>Banashankari</td>\n",
       "      <td>Casual Dining</td>\n",
       "      <td>Pasta, Lunch Buffet, Masala Papad, Paneer Laja...</td>\n",
       "      <td>North Indian, Mughlai, Chinese</td>\n",
       "      <td>800.0</td>\n",
       "      <td>[('Rated 4.0', 'RATED\\n  A beautiful place to ...</td>\n",
       "      <td>[]</td>\n",
       "      <td>Buffet</td>\n",
       "      <td>Banashankari</td>\n",
       "    </tr>\n",
       "    <tr>\n",
       "      <th>1</th>\n",
       "      <td>2nd Floor, 80 Feet Road, Near Big Bazaar, 6th ...</td>\n",
       "      <td>Spice Elephant</td>\n",
       "      <td>Yes</td>\n",
       "      <td>No</td>\n",
       "      <td>4.1</td>\n",
       "      <td>787</td>\n",
       "      <td>Banashankari</td>\n",
       "      <td>Casual Dining</td>\n",
       "      <td>Momos, Lunch Buffet, Chocolate Nirvana, Thai G...</td>\n",
       "      <td>Chinese, North Indian, Thai</td>\n",
       "      <td>800.0</td>\n",
       "      <td>[('Rated 4.0', 'RATED\\n  Had been here for din...</td>\n",
       "      <td>[]</td>\n",
       "      <td>Buffet</td>\n",
       "      <td>Banashankari</td>\n",
       "    </tr>\n",
       "    <tr>\n",
       "      <th>2</th>\n",
       "      <td>1112, Next to KIMS Medical College, 17th Cross...</td>\n",
       "      <td>San Churro Cafe</td>\n",
       "      <td>Yes</td>\n",
       "      <td>No</td>\n",
       "      <td>3.8</td>\n",
       "      <td>918</td>\n",
       "      <td>Banashankari</td>\n",
       "      <td>Cafe, Casual Dining</td>\n",
       "      <td>Churros, Cannelloni, Minestrone Soup, Hot Choc...</td>\n",
       "      <td>Cafe, Mexican, Italian</td>\n",
       "      <td>800.0</td>\n",
       "      <td>[('Rated 3.0', \"RATED\\n  Ambience is not that ...</td>\n",
       "      <td>[]</td>\n",
       "      <td>Buffet</td>\n",
       "      <td>Banashankari</td>\n",
       "    </tr>\n",
       "    <tr>\n",
       "      <th>3</th>\n",
       "      <td>1st Floor, Annakuteera, 3rd Stage, Banashankar...</td>\n",
       "      <td>Addhuri Udupi Bhojana</td>\n",
       "      <td>No</td>\n",
       "      <td>No</td>\n",
       "      <td>3.7</td>\n",
       "      <td>88</td>\n",
       "      <td>Banashankari</td>\n",
       "      <td>Quick Bites</td>\n",
       "      <td>Masala Dosa</td>\n",
       "      <td>South Indian, North Indian</td>\n",
       "      <td>300.0</td>\n",
       "      <td>[('Rated 4.0', \"RATED\\n  Great food and proper...</td>\n",
       "      <td>[]</td>\n",
       "      <td>Buffet</td>\n",
       "      <td>Banashankari</td>\n",
       "    </tr>\n",
       "    <tr>\n",
       "      <th>4</th>\n",
       "      <td>10, 3rd Floor, Lakshmi Associates, Gandhi Baza...</td>\n",
       "      <td>Grand Village</td>\n",
       "      <td>No</td>\n",
       "      <td>No</td>\n",
       "      <td>3.8</td>\n",
       "      <td>166</td>\n",
       "      <td>Basavanagudi</td>\n",
       "      <td>Casual Dining</td>\n",
       "      <td>Panipuri, Gol Gappe</td>\n",
       "      <td>North Indian, Rajasthani</td>\n",
       "      <td>600.0</td>\n",
       "      <td>[('Rated 4.0', 'RATED\\n  Very good restaurant ...</td>\n",
       "      <td>[]</td>\n",
       "      <td>Buffet</td>\n",
       "      <td>Banashankari</td>\n",
       "    </tr>\n",
       "  </tbody>\n",
       "</table>\n",
       "</div>"
      ],
      "text/plain": [
       "                                             address                   name  \\\n",
       "0  942, 21st Main Road, 2nd Stage, Banashankari, ...                  Jalsa   \n",
       "1  2nd Floor, 80 Feet Road, Near Big Bazaar, 6th ...         Spice Elephant   \n",
       "2  1112, Next to KIMS Medical College, 17th Cross...        San Churro Cafe   \n",
       "3  1st Floor, Annakuteera, 3rd Stage, Banashankar...  Addhuri Udupi Bhojana   \n",
       "4  10, 3rd Floor, Lakshmi Associates, Gandhi Baza...          Grand Village   \n",
       "\n",
       "  online_order book_table  rate  votes      location            rest_type  \\\n",
       "0          Yes        Yes   4.1    775  Banashankari        Casual Dining   \n",
       "1          Yes         No   4.1    787  Banashankari        Casual Dining   \n",
       "2          Yes         No   3.8    918  Banashankari  Cafe, Casual Dining   \n",
       "3           No         No   3.7     88  Banashankari          Quick Bites   \n",
       "4           No         No   3.8    166  Basavanagudi        Casual Dining   \n",
       "\n",
       "                                          dish_liked  \\\n",
       "0  Pasta, Lunch Buffet, Masala Papad, Paneer Laja...   \n",
       "1  Momos, Lunch Buffet, Chocolate Nirvana, Thai G...   \n",
       "2  Churros, Cannelloni, Minestrone Soup, Hot Choc...   \n",
       "3                                        Masala Dosa   \n",
       "4                                Panipuri, Gol Gappe   \n",
       "\n",
       "                         cuisines   cost  \\\n",
       "0  North Indian, Mughlai, Chinese  800.0   \n",
       "1     Chinese, North Indian, Thai  800.0   \n",
       "2          Cafe, Mexican, Italian  800.0   \n",
       "3      South Indian, North Indian  300.0   \n",
       "4        North Indian, Rajasthani  600.0   \n",
       "\n",
       "                                        reviews_list menu_item    type  \\\n",
       "0  [('Rated 4.0', 'RATED\\n  A beautiful place to ...        []  Buffet   \n",
       "1  [('Rated 4.0', 'RATED\\n  Had been here for din...        []  Buffet   \n",
       "2  [('Rated 3.0', \"RATED\\n  Ambience is not that ...        []  Buffet   \n",
       "3  [('Rated 4.0', \"RATED\\n  Great food and proper...        []  Buffet   \n",
       "4  [('Rated 4.0', 'RATED\\n  Very good restaurant ...        []  Buffet   \n",
       "\n",
       "           city  \n",
       "0  Banashankari  \n",
       "1  Banashankari  \n",
       "2  Banashankari  \n",
       "3  Banashankari  \n",
       "4  Banashankari  "
      ]
     },
     "execution_count": 52,
     "metadata": {},
     "output_type": "execute_result"
    }
   ],
   "source": [
    "df.head()"
   ]
  },
  {
   "cell_type": "markdown",
   "id": "99278db0",
   "metadata": {
    "id": "mcZ4dX_gVtnk",
    "papermill": {
     "duration": 0.117558,
     "end_time": "2022-04-08T17:43:32.699604",
     "exception": false,
     "start_time": "2022-04-08T17:43:32.582046",
     "status": "completed"
    },
    "tags": []
   },
   "source": [
    "**Convert the online categorical variables into numeric Format**"
   ]
  },
  {
   "cell_type": "code",
   "execution_count": 53,
   "id": "712f7f58",
   "metadata": {
    "execution": {
     "iopub.execute_input": "2022-04-08T17:43:32.945080Z",
     "iopub.status.busy": "2022-04-08T17:43:32.944372Z",
     "iopub.status.idle": "2022-04-08T17:43:32.956493Z",
     "shell.execute_reply": "2022-04-08T17:43:32.956996Z",
     "shell.execute_reply.started": "2021-11-22T03:36:17.388756Z"
    },
    "executionInfo": {
     "elapsed": 94,
     "status": "ok",
     "timestamp": 1637546438887,
     "user": {
      "displayName": "Harsh Pimpalkar",
      "photoUrl": "https://lh3.googleusercontent.com/a/default-user=s64",
      "userId": "00943371497075099378"
     },
     "user_tz": -330
    },
    "id": "fgWK_OsyVkyt",
    "papermill": {
     "duration": 0.139561,
     "end_time": "2022-04-08T17:43:32.957177",
     "exception": false,
     "start_time": "2022-04-08T17:43:32.817616",
     "status": "completed"
    },
    "tags": []
   },
   "outputs": [],
   "source": [
    "df.online_order[df.online_order == 'Yes'] = 1\n",
    "df.online_order[df.online_order == 'No'] = 0"
   ]
  },
  {
   "cell_type": "code",
   "execution_count": 54,
   "id": "3b40c232",
   "metadata": {
    "execution": {
     "iopub.execute_input": "2022-04-08T17:43:33.203320Z",
     "iopub.status.busy": "2022-04-08T17:43:33.202600Z",
     "iopub.status.idle": "2022-04-08T17:43:33.205211Z",
     "shell.execute_reply": "2022-04-08T17:43:33.205718Z",
     "shell.execute_reply.started": "2021-11-22T03:36:17.409494Z"
    },
    "executionInfo": {
     "elapsed": 95,
     "status": "ok",
     "timestamp": 1637546438889,
     "user": {
      "displayName": "Harsh Pimpalkar",
      "photoUrl": "https://lh3.googleusercontent.com/a/default-user=s64",
      "userId": "00943371497075099378"
     },
     "user_tz": -330
    },
    "id": "n6l56-lcV-OB",
    "outputId": "e31cbe25-21ed-4c25-83a3-47dbc75cbb16",
    "papermill": {
     "duration": 0.130874,
     "end_time": "2022-04-08T17:43:33.205888",
     "exception": false,
     "start_time": "2022-04-08T17:43:33.075014",
     "status": "completed"
    },
    "tags": []
   },
   "outputs": [
    {
     "data": {
      "text/plain": [
       "1    16378\n",
       "0     6870\n",
       "Name: online_order, dtype: int64"
      ]
     },
     "execution_count": 54,
     "metadata": {},
     "output_type": "execute_result"
    }
   ],
   "source": [
    "df.online_order.value_counts()"
   ]
  },
  {
   "cell_type": "code",
   "execution_count": 55,
   "id": "bbe83688",
   "metadata": {
    "execution": {
     "iopub.execute_input": "2022-04-08T17:43:33.446955Z",
     "iopub.status.busy": "2022-04-08T17:43:33.446272Z",
     "iopub.status.idle": "2022-04-08T17:43:33.455410Z",
     "shell.execute_reply": "2022-04-08T17:43:33.455966Z",
     "shell.execute_reply.started": "2021-11-22T03:36:17.419142Z"
    },
    "executionInfo": {
     "elapsed": 88,
     "status": "ok",
     "timestamp": 1637546438891,
     "user": {
      "displayName": "Harsh Pimpalkar",
      "photoUrl": "https://lh3.googleusercontent.com/a/default-user=s64",
      "userId": "00943371497075099378"
     },
     "user_tz": -330
    },
    "id": "XGYKgjdHWDMe",
    "papermill": {
     "duration": 0.13134,
     "end_time": "2022-04-08T17:43:33.456145",
     "exception": false,
     "start_time": "2022-04-08T17:43:33.324805",
     "status": "completed"
    },
    "tags": []
   },
   "outputs": [],
   "source": [
    "df.online_order = pd.to_numeric(df.online_order)"
   ]
  },
  {
   "cell_type": "code",
   "execution_count": 56,
   "id": "c7566483",
   "metadata": {
    "execution": {
     "iopub.execute_input": "2022-04-08T17:43:33.700044Z",
     "iopub.status.busy": "2022-04-08T17:43:33.699309Z",
     "iopub.status.idle": "2022-04-08T17:43:33.701999Z",
     "shell.execute_reply": "2022-04-08T17:43:33.702509Z",
     "shell.execute_reply.started": "2021-11-22T03:36:17.431104Z"
    },
    "executionInfo": {
     "elapsed": 89,
     "status": "ok",
     "timestamp": 1637546438892,
     "user": {
      "displayName": "Harsh Pimpalkar",
      "photoUrl": "https://lh3.googleusercontent.com/a/default-user=s64",
      "userId": "00943371497075099378"
     },
     "user_tz": -330
    },
    "id": "wYTNhuF0WLu1",
    "outputId": "8058e470-8d7f-4954-d361-0e61d7aa0ca1",
    "papermill": {
     "duration": 0.128281,
     "end_time": "2022-04-08T17:43:33.702679",
     "exception": false,
     "start_time": "2022-04-08T17:43:33.574398",
     "status": "completed"
    },
    "tags": []
   },
   "outputs": [
    {
     "data": {
      "text/plain": [
       "0        1\n",
       "1        1\n",
       "2        1\n",
       "3        0\n",
       "4        0\n",
       "        ..\n",
       "23243    1\n",
       "23244    0\n",
       "23245    0\n",
       "23246    0\n",
       "23247    0\n",
       "Name: online_order, Length: 23248, dtype: int64"
      ]
     },
     "execution_count": 56,
     "metadata": {},
     "output_type": "execute_result"
    }
   ],
   "source": [
    "df.online_order"
   ]
  },
  {
   "cell_type": "markdown",
   "id": "46defaee",
   "metadata": {
    "id": "cq3J-wZ7WT1c",
    "papermill": {
     "duration": 0.118243,
     "end_time": "2022-04-08T17:43:33.940675",
     "exception": false,
     "start_time": "2022-04-08T17:43:33.822432",
     "status": "completed"
    },
    "tags": []
   },
   "source": [
    "**Change the string categorical into to a categorical int**"
   ]
  },
  {
   "cell_type": "code",
   "execution_count": 57,
   "id": "401947b6",
   "metadata": {
    "execution": {
     "iopub.execute_input": "2022-04-08T17:43:34.183080Z",
     "iopub.status.busy": "2022-04-08T17:43:34.182385Z",
     "iopub.status.idle": "2022-04-08T17:43:34.198659Z",
     "shell.execute_reply": "2022-04-08T17:43:34.199141Z",
     "shell.execute_reply.started": "2021-11-22T03:36:17.441553Z"
    },
    "executionInfo": {
     "elapsed": 86,
     "status": "ok",
     "timestamp": 1637546438895,
     "user": {
      "displayName": "Harsh Pimpalkar",
      "photoUrl": "https://lh3.googleusercontent.com/a/default-user=s64",
      "userId": "00943371497075099378"
     },
     "user_tz": -330
    },
    "id": "PRLiutyyWN_q",
    "papermill": {
     "duration": 0.139406,
     "end_time": "2022-04-08T17:43:34.199319",
     "exception": false,
     "start_time": "2022-04-08T17:43:34.059913",
     "status": "completed"
    },
    "tags": []
   },
   "outputs": [],
   "source": [
    "df.book_table[df.book_table == 'Yes'] = 1\n",
    "df.book_table[df.book_table == 'No'] = 0"
   ]
  },
  {
   "cell_type": "code",
   "execution_count": 58,
   "id": "9f423c38",
   "metadata": {
    "execution": {
     "iopub.execute_input": "2022-04-08T17:43:34.448150Z",
     "iopub.status.busy": "2022-04-08T17:43:34.447340Z",
     "iopub.status.idle": "2022-04-08T17:43:34.453190Z",
     "shell.execute_reply": "2022-04-08T17:43:34.453681Z",
     "shell.execute_reply.started": "2021-11-22T03:36:17.459051Z"
    },
    "executionInfo": {
     "elapsed": 86,
     "status": "ok",
     "timestamp": 1637546438897,
     "user": {
      "displayName": "Harsh Pimpalkar",
      "photoUrl": "https://lh3.googleusercontent.com/a/default-user=s64",
      "userId": "00943371497075099378"
     },
     "user_tz": -330
    },
    "id": "h_lqfSIZWnJc",
    "papermill": {
     "duration": 0.135216,
     "end_time": "2022-04-08T17:43:34.453873",
     "exception": false,
     "start_time": "2022-04-08T17:43:34.318657",
     "status": "completed"
    },
    "tags": []
   },
   "outputs": [],
   "source": [
    "df.book_table = pd.to_numeric(df.book_table)"
   ]
  },
  {
   "cell_type": "code",
   "execution_count": 59,
   "id": "8f8d6bc2",
   "metadata": {
    "execution": {
     "iopub.execute_input": "2022-04-08T17:43:34.724418Z",
     "iopub.status.busy": "2022-04-08T17:43:34.723795Z",
     "iopub.status.idle": "2022-04-08T17:43:34.730355Z",
     "shell.execute_reply": "2022-04-08T17:43:34.730889Z",
     "shell.execute_reply.started": "2021-11-22T03:36:17.469841Z"
    },
    "executionInfo": {
     "elapsed": 85,
     "status": "ok",
     "timestamp": 1637546438898,
     "user": {
      "displayName": "Harsh Pimpalkar",
      "photoUrl": "https://lh3.googleusercontent.com/a/default-user=s64",
      "userId": "00943371497075099378"
     },
     "user_tz": -330
    },
    "id": "KqIrMIWyW8gG",
    "outputId": "9321a376-cf41-418a-ff2d-ba093f483df2",
    "papermill": {
     "duration": 0.154741,
     "end_time": "2022-04-08T17:43:34.731077",
     "exception": false,
     "start_time": "2022-04-08T17:43:34.576336",
     "status": "completed"
    },
    "tags": []
   },
   "outputs": [
    {
     "data": {
      "text/plain": [
       "0    17191\n",
       "1     6057\n",
       "Name: book_table, dtype: int64"
      ]
     },
     "execution_count": 59,
     "metadata": {},
     "output_type": "execute_result"
    }
   ],
   "source": [
    "df.book_table.value_counts()"
   ]
  },
  {
   "cell_type": "markdown",
   "id": "2c8ce00c",
   "metadata": {
    "id": "veNaxKO0XBpo",
    "papermill": {
     "duration": 0.118596,
     "end_time": "2022-04-08T17:43:34.969235",
     "exception": false,
     "start_time": "2022-04-08T17:43:34.850639",
     "status": "completed"
    },
    "tags": []
   },
   "source": [
    "Label encode the categorical variables to make it easier to build algorithm"
   ]
  },
  {
   "cell_type": "code",
   "execution_count": 60,
   "id": "e0d27a3e",
   "metadata": {
    "execution": {
     "iopub.execute_input": "2022-04-08T17:43:35.212620Z",
     "iopub.status.busy": "2022-04-08T17:43:35.211877Z",
     "iopub.status.idle": "2022-04-08T17:43:35.333794Z",
     "shell.execute_reply": "2022-04-08T17:43:35.334358Z",
     "shell.execute_reply.started": "2021-11-22T03:36:17.480756Z"
    },
    "executionInfo": {
     "elapsed": 78,
     "status": "ok",
     "timestamp": 1637546438899,
     "user": {
      "displayName": "Harsh Pimpalkar",
      "photoUrl": "https://lh3.googleusercontent.com/a/default-user=s64",
      "userId": "00943371497075099378"
     },
     "user_tz": -330
    },
    "id": "eoJHIZzJW_zg",
    "papermill": {
     "duration": 0.246551,
     "end_time": "2022-04-08T17:43:35.334566",
     "exception": false,
     "start_time": "2022-04-08T17:43:35.088015",
     "status": "completed"
    },
    "tags": []
   },
   "outputs": [],
   "source": [
    "from sklearn.preprocessing import LabelEncoder\n",
    "le = LabelEncoder()"
   ]
  },
  {
   "cell_type": "code",
   "execution_count": 61,
   "id": "7b41219a",
   "metadata": {
    "execution": {
     "iopub.execute_input": "2022-04-08T17:43:35.577374Z",
     "iopub.status.busy": "2022-04-08T17:43:35.576663Z",
     "iopub.status.idle": "2022-04-08T17:43:35.643882Z",
     "shell.execute_reply": "2022-04-08T17:43:35.644391Z",
     "shell.execute_reply.started": "2021-11-22T03:36:17.527751Z"
    },
    "executionInfo": {
     "elapsed": 79,
     "status": "ok",
     "timestamp": 1637546438901,
     "user": {
      "displayName": "Harsh Pimpalkar",
      "photoUrl": "https://lh3.googleusercontent.com/a/default-user=s64",
      "userId": "00943371497075099378"
     },
     "user_tz": -330
    },
    "id": "jPnM0s01XVLs",
    "papermill": {
     "duration": 0.190801,
     "end_time": "2022-04-08T17:43:35.644614",
     "exception": false,
     "start_time": "2022-04-08T17:43:35.453813",
     "status": "completed"
    },
    "tags": []
   },
   "outputs": [],
   "source": [
    "df.location = le.fit_transform(df.location)\n",
    "df.rest_type = le.fit_transform(df.rest_type)\n",
    "df.cuisines = le.fit_transform(df.cuisines)\n",
    "df.menu_item = le.fit_transform(df.menu_item)\n"
   ]
  },
  {
   "cell_type": "code",
   "execution_count": 62,
   "id": "ac5f5f6a",
   "metadata": {
    "execution": {
     "iopub.execute_input": "2022-04-08T17:43:35.889832Z",
     "iopub.status.busy": "2022-04-08T17:43:35.888851Z",
     "iopub.status.idle": "2022-04-08T17:43:35.906115Z",
     "shell.execute_reply": "2022-04-08T17:43:35.906645Z",
     "shell.execute_reply.started": "2021-11-22T03:36:17.583809Z"
    },
    "executionInfo": {
     "elapsed": 79,
     "status": "ok",
     "timestamp": 1637546438902,
     "user": {
      "displayName": "Harsh Pimpalkar",
      "photoUrl": "https://lh3.googleusercontent.com/a/default-user=s64",
      "userId": "00943371497075099378"
     },
     "user_tz": -330
    },
    "id": "smTkzNfXXpO8",
    "outputId": "429254e9-486f-4b97-e442-f3533a882eac",
    "papermill": {
     "duration": 0.141071,
     "end_time": "2022-04-08T17:43:35.906835",
     "exception": false,
     "start_time": "2022-04-08T17:43:35.765764",
     "status": "completed"
    },
    "tags": []
   },
   "outputs": [
    {
     "data": {
      "text/html": [
       "<div>\n",
       "<style scoped>\n",
       "    .dataframe tbody tr th:only-of-type {\n",
       "        vertical-align: middle;\n",
       "    }\n",
       "\n",
       "    .dataframe tbody tr th {\n",
       "        vertical-align: top;\n",
       "    }\n",
       "\n",
       "    .dataframe thead th {\n",
       "        text-align: right;\n",
       "    }\n",
       "</style>\n",
       "<table border=\"1\" class=\"dataframe\">\n",
       "  <thead>\n",
       "    <tr style=\"text-align: right;\">\n",
       "      <th></th>\n",
       "      <th>address</th>\n",
       "      <th>name</th>\n",
       "      <th>online_order</th>\n",
       "      <th>book_table</th>\n",
       "      <th>rate</th>\n",
       "      <th>votes</th>\n",
       "      <th>location</th>\n",
       "      <th>rest_type</th>\n",
       "      <th>dish_liked</th>\n",
       "      <th>cuisines</th>\n",
       "      <th>cost</th>\n",
       "      <th>reviews_list</th>\n",
       "      <th>menu_item</th>\n",
       "      <th>type</th>\n",
       "      <th>city</th>\n",
       "    </tr>\n",
       "  </thead>\n",
       "  <tbody>\n",
       "    <tr>\n",
       "      <th>0</th>\n",
       "      <td>942, 21st Main Road, 2nd Stage, Banashankari, ...</td>\n",
       "      <td>Jalsa</td>\n",
       "      <td>1</td>\n",
       "      <td>1</td>\n",
       "      <td>4.1</td>\n",
       "      <td>775</td>\n",
       "      <td>1</td>\n",
       "      <td>20</td>\n",
       "      <td>Pasta, Lunch Buffet, Masala Papad, Paneer Laja...</td>\n",
       "      <td>1386</td>\n",
       "      <td>800.0</td>\n",
       "      <td>[('Rated 4.0', 'RATED\\n  A beautiful place to ...</td>\n",
       "      <td>5047</td>\n",
       "      <td>Buffet</td>\n",
       "      <td>Banashankari</td>\n",
       "    </tr>\n",
       "    <tr>\n",
       "      <th>1</th>\n",
       "      <td>2nd Floor, 80 Feet Road, Near Big Bazaar, 6th ...</td>\n",
       "      <td>Spice Elephant</td>\n",
       "      <td>1</td>\n",
       "      <td>0</td>\n",
       "      <td>4.1</td>\n",
       "      <td>787</td>\n",
       "      <td>1</td>\n",
       "      <td>20</td>\n",
       "      <td>Momos, Lunch Buffet, Chocolate Nirvana, Thai G...</td>\n",
       "      <td>594</td>\n",
       "      <td>800.0</td>\n",
       "      <td>[('Rated 4.0', 'RATED\\n  Had been here for din...</td>\n",
       "      <td>5047</td>\n",
       "      <td>Buffet</td>\n",
       "      <td>Banashankari</td>\n",
       "    </tr>\n",
       "    <tr>\n",
       "      <th>2</th>\n",
       "      <td>1112, Next to KIMS Medical College, 17th Cross...</td>\n",
       "      <td>San Churro Cafe</td>\n",
       "      <td>1</td>\n",
       "      <td>0</td>\n",
       "      <td>3.8</td>\n",
       "      <td>918</td>\n",
       "      <td>1</td>\n",
       "      <td>16</td>\n",
       "      <td>Churros, Cannelloni, Minestrone Soup, Hot Choc...</td>\n",
       "      <td>484</td>\n",
       "      <td>800.0</td>\n",
       "      <td>[('Rated 3.0', \"RATED\\n  Ambience is not that ...</td>\n",
       "      <td>5047</td>\n",
       "      <td>Buffet</td>\n",
       "      <td>Banashankari</td>\n",
       "    </tr>\n",
       "    <tr>\n",
       "      <th>3</th>\n",
       "      <td>1st Floor, Annakuteera, 3rd Stage, Banashankar...</td>\n",
       "      <td>Addhuri Udupi Bhojana</td>\n",
       "      <td>0</td>\n",
       "      <td>0</td>\n",
       "      <td>3.7</td>\n",
       "      <td>88</td>\n",
       "      <td>1</td>\n",
       "      <td>62</td>\n",
       "      <td>Masala Dosa</td>\n",
       "      <td>1587</td>\n",
       "      <td>300.0</td>\n",
       "      <td>[('Rated 4.0', \"RATED\\n  Great food and proper...</td>\n",
       "      <td>5047</td>\n",
       "      <td>Buffet</td>\n",
       "      <td>Banashankari</td>\n",
       "    </tr>\n",
       "    <tr>\n",
       "      <th>4</th>\n",
       "      <td>10, 3rd Floor, Lakshmi Associates, Gandhi Baza...</td>\n",
       "      <td>Grand Village</td>\n",
       "      <td>0</td>\n",
       "      <td>0</td>\n",
       "      <td>3.8</td>\n",
       "      <td>166</td>\n",
       "      <td>4</td>\n",
       "      <td>20</td>\n",
       "      <td>Panipuri, Gol Gappe</td>\n",
       "      <td>1406</td>\n",
       "      <td>600.0</td>\n",
       "      <td>[('Rated 4.0', 'RATED\\n  Very good restaurant ...</td>\n",
       "      <td>5047</td>\n",
       "      <td>Buffet</td>\n",
       "      <td>Banashankari</td>\n",
       "    </tr>\n",
       "  </tbody>\n",
       "</table>\n",
       "</div>"
      ],
      "text/plain": [
       "                                             address                   name  \\\n",
       "0  942, 21st Main Road, 2nd Stage, Banashankari, ...                  Jalsa   \n",
       "1  2nd Floor, 80 Feet Road, Near Big Bazaar, 6th ...         Spice Elephant   \n",
       "2  1112, Next to KIMS Medical College, 17th Cross...        San Churro Cafe   \n",
       "3  1st Floor, Annakuteera, 3rd Stage, Banashankar...  Addhuri Udupi Bhojana   \n",
       "4  10, 3rd Floor, Lakshmi Associates, Gandhi Baza...          Grand Village   \n",
       "\n",
       "   online_order  book_table  rate  votes  location  rest_type  \\\n",
       "0             1           1   4.1    775         1         20   \n",
       "1             1           0   4.1    787         1         20   \n",
       "2             1           0   3.8    918         1         16   \n",
       "3             0           0   3.7     88         1         62   \n",
       "4             0           0   3.8    166         4         20   \n",
       "\n",
       "                                          dish_liked  cuisines   cost  \\\n",
       "0  Pasta, Lunch Buffet, Masala Papad, Paneer Laja...      1386  800.0   \n",
       "1  Momos, Lunch Buffet, Chocolate Nirvana, Thai G...       594  800.0   \n",
       "2  Churros, Cannelloni, Minestrone Soup, Hot Choc...       484  800.0   \n",
       "3                                        Masala Dosa      1587  300.0   \n",
       "4                                Panipuri, Gol Gappe      1406  600.0   \n",
       "\n",
       "                                        reviews_list  menu_item    type  \\\n",
       "0  [('Rated 4.0', 'RATED\\n  A beautiful place to ...       5047  Buffet   \n",
       "1  [('Rated 4.0', 'RATED\\n  Had been here for din...       5047  Buffet   \n",
       "2  [('Rated 3.0', \"RATED\\n  Ambience is not that ...       5047  Buffet   \n",
       "3  [('Rated 4.0', \"RATED\\n  Great food and proper...       5047  Buffet   \n",
       "4  [('Rated 4.0', 'RATED\\n  Very good restaurant ...       5047  Buffet   \n",
       "\n",
       "           city  \n",
       "0  Banashankari  \n",
       "1  Banashankari  \n",
       "2  Banashankari  \n",
       "3  Banashankari  \n",
       "4  Banashankari  "
      ]
     },
     "execution_count": 62,
     "metadata": {},
     "output_type": "execute_result"
    }
   ],
   "source": [
    "df.head()"
   ]
  },
  {
   "cell_type": "code",
   "execution_count": 63,
   "id": "7e6070f3",
   "metadata": {
    "execution": {
     "iopub.execute_input": "2022-04-08T17:43:36.152496Z",
     "iopub.status.busy": "2022-04-08T17:43:36.151796Z",
     "iopub.status.idle": "2022-04-08T17:43:36.365036Z",
     "shell.execute_reply": "2022-04-08T17:43:36.364418Z",
     "shell.execute_reply.started": "2021-11-22T03:36:17.604816Z"
    },
    "executionInfo": {
     "elapsed": 741,
     "status": "ok",
     "timestamp": 1637546600848,
     "user": {
      "displayName": "Harsh Pimpalkar",
      "photoUrl": "https://lh3.googleusercontent.com/a/default-user=s64",
      "userId": "00943371497075099378"
     },
     "user_tz": -330
    },
    "id": "50uNRoE2Xq-v",
    "papermill": {
     "duration": 0.336991,
     "end_time": "2022-04-08T17:43:36.365181",
     "exception": false,
     "start_time": "2022-04-08T17:43:36.028190",
     "status": "completed"
    },
    "tags": []
   },
   "outputs": [],
   "source": [
    "my_data=df.iloc[:,[2,3,4,5,6,7,8,9,10,12]]\n",
    "my_data.to_csv('Zomato_df.csv')"
   ]
  },
  {
   "cell_type": "code",
   "execution_count": 64,
   "id": "badebba9",
   "metadata": {
    "execution": {
     "iopub.execute_input": "2022-04-08T17:43:36.607356Z",
     "iopub.status.busy": "2022-04-08T17:43:36.606725Z",
     "iopub.status.idle": "2022-04-08T17:43:36.619155Z",
     "shell.execute_reply": "2022-04-08T17:43:36.619733Z",
     "shell.execute_reply.started": "2021-11-22T03:36:17.732036Z"
    },
    "executionInfo": {
     "elapsed": 673,
     "status": "ok",
     "timestamp": 1637546662609,
     "user": {
      "displayName": "Harsh Pimpalkar",
      "photoUrl": "https://lh3.googleusercontent.com/a/default-user=s64",
      "userId": "00943371497075099378"
     },
     "user_tz": -330
    },
    "id": "jVtbQByuYnhe",
    "outputId": "1602f3d5-1cc3-4b33-8cc7-78fa6f6acf87",
    "papermill": {
     "duration": 0.135205,
     "end_time": "2022-04-08T17:43:36.619908",
     "exception": false,
     "start_time": "2022-04-08T17:43:36.484703",
     "status": "completed"
    },
    "tags": []
   },
   "outputs": [
    {
     "data": {
      "text/html": [
       "<div>\n",
       "<style scoped>\n",
       "    .dataframe tbody tr th:only-of-type {\n",
       "        vertical-align: middle;\n",
       "    }\n",
       "\n",
       "    .dataframe tbody tr th {\n",
       "        vertical-align: top;\n",
       "    }\n",
       "\n",
       "    .dataframe thead th {\n",
       "        text-align: right;\n",
       "    }\n",
       "</style>\n",
       "<table border=\"1\" class=\"dataframe\">\n",
       "  <thead>\n",
       "    <tr style=\"text-align: right;\">\n",
       "      <th></th>\n",
       "      <th>online_order</th>\n",
       "      <th>book_table</th>\n",
       "      <th>votes</th>\n",
       "      <th>location</th>\n",
       "      <th>rest_type</th>\n",
       "      <th>cuisines</th>\n",
       "      <th>cost</th>\n",
       "      <th>menu_item</th>\n",
       "    </tr>\n",
       "  </thead>\n",
       "  <tbody>\n",
       "    <tr>\n",
       "      <th>0</th>\n",
       "      <td>1</td>\n",
       "      <td>1</td>\n",
       "      <td>775</td>\n",
       "      <td>1</td>\n",
       "      <td>20</td>\n",
       "      <td>1386</td>\n",
       "      <td>800.0</td>\n",
       "      <td>5047</td>\n",
       "    </tr>\n",
       "    <tr>\n",
       "      <th>1</th>\n",
       "      <td>1</td>\n",
       "      <td>0</td>\n",
       "      <td>787</td>\n",
       "      <td>1</td>\n",
       "      <td>20</td>\n",
       "      <td>594</td>\n",
       "      <td>800.0</td>\n",
       "      <td>5047</td>\n",
       "    </tr>\n",
       "    <tr>\n",
       "      <th>2</th>\n",
       "      <td>1</td>\n",
       "      <td>0</td>\n",
       "      <td>918</td>\n",
       "      <td>1</td>\n",
       "      <td>16</td>\n",
       "      <td>484</td>\n",
       "      <td>800.0</td>\n",
       "      <td>5047</td>\n",
       "    </tr>\n",
       "    <tr>\n",
       "      <th>3</th>\n",
       "      <td>0</td>\n",
       "      <td>0</td>\n",
       "      <td>88</td>\n",
       "      <td>1</td>\n",
       "      <td>62</td>\n",
       "      <td>1587</td>\n",
       "      <td>300.0</td>\n",
       "      <td>5047</td>\n",
       "    </tr>\n",
       "    <tr>\n",
       "      <th>4</th>\n",
       "      <td>0</td>\n",
       "      <td>0</td>\n",
       "      <td>166</td>\n",
       "      <td>4</td>\n",
       "      <td>20</td>\n",
       "      <td>1406</td>\n",
       "      <td>600.0</td>\n",
       "      <td>5047</td>\n",
       "    </tr>\n",
       "  </tbody>\n",
       "</table>\n",
       "</div>"
      ],
      "text/plain": [
       "   online_order  book_table  votes  location  rest_type  cuisines   cost  \\\n",
       "0             1           1    775         1         20      1386  800.0   \n",
       "1             1           0    787         1         20       594  800.0   \n",
       "2             1           0    918         1         16       484  800.0   \n",
       "3             0           0     88         1         62      1587  300.0   \n",
       "4             0           0    166         4         20      1406  600.0   \n",
       "\n",
       "   menu_item  \n",
       "0       5047  \n",
       "1       5047  \n",
       "2       5047  \n",
       "3       5047  \n",
       "4       5047  "
      ]
     },
     "execution_count": 64,
     "metadata": {},
     "output_type": "execute_result"
    }
   ],
   "source": [
    "x = df.iloc[:,[2,3,5,6,7,9,10,12]]\n",
    "x.head()"
   ]
  },
  {
   "cell_type": "code",
   "execution_count": 65,
   "id": "9b78322a",
   "metadata": {
    "execution": {
     "iopub.execute_input": "2022-04-08T17:43:36.865286Z",
     "iopub.status.busy": "2022-04-08T17:43:36.864622Z",
     "iopub.status.idle": "2022-04-08T17:43:36.871103Z",
     "shell.execute_reply": "2022-04-08T17:43:36.871756Z",
     "shell.execute_reply.started": "2021-11-22T03:36:17.747266Z"
    },
    "executionInfo": {
     "elapsed": 976,
     "status": "ok",
     "timestamp": 1637546716895,
     "user": {
      "displayName": "Harsh Pimpalkar",
      "photoUrl": "https://lh3.googleusercontent.com/a/default-user=s64",
      "userId": "00943371497075099378"
     },
     "user_tz": -330
    },
    "id": "tjECtQZLYudV",
    "outputId": "11e71b7c-01b8-4b33-e57a-53e82d6e06b3",
    "papermill": {
     "duration": 0.131254,
     "end_time": "2022-04-08T17:43:36.871945",
     "exception": false,
     "start_time": "2022-04-08T17:43:36.740691",
     "status": "completed"
    },
    "tags": []
   },
   "outputs": [
    {
     "data": {
      "text/plain": [
       "0        4.1\n",
       "1        4.1\n",
       "2        3.8\n",
       "3        3.7\n",
       "4        3.8\n",
       "        ... \n",
       "23243    3.8\n",
       "23244    3.9\n",
       "23245    2.8\n",
       "23246    2.5\n",
       "23247    4.3\n",
       "Name: rate, Length: 23248, dtype: float64"
      ]
     },
     "execution_count": 65,
     "metadata": {},
     "output_type": "execute_result"
    }
   ],
   "source": [
    "y = df['rate']\n",
    "y"
   ]
  },
  {
   "cell_type": "code",
   "execution_count": 66,
   "id": "22fd979a",
   "metadata": {
    "execution": {
     "iopub.execute_input": "2022-04-08T17:43:37.120422Z",
     "iopub.status.busy": "2022-04-08T17:43:37.119772Z",
     "iopub.status.idle": "2022-04-08T17:43:37.180265Z",
     "shell.execute_reply": "2022-04-08T17:43:37.179672Z",
     "shell.execute_reply.started": "2021-11-22T03:36:17.763212Z"
    },
    "executionInfo": {
     "elapsed": 1636,
     "status": "ok",
     "timestamp": 1637546820418,
     "user": {
      "displayName": "Harsh Pimpalkar",
      "photoUrl": "https://lh3.googleusercontent.com/a/default-user=s64",
      "userId": "00943371497075099378"
     },
     "user_tz": -330
    },
    "id": "Sp0Z1BpzY8wx",
    "papermill": {
     "duration": 0.18654,
     "end_time": "2022-04-08T17:43:37.180412",
     "exception": false,
     "start_time": "2022-04-08T17:43:36.993872",
     "status": "completed"
    },
    "tags": []
   },
   "outputs": [],
   "source": [
    "from sklearn.model_selection import train_test_split\n",
    "\n",
    "x_train,x_test, y_train,y_test = train_test_split(x,y,test_size=0.2, random_state=8)"
   ]
  },
  {
   "cell_type": "code",
   "execution_count": 67,
   "id": "86bba6bb",
   "metadata": {
    "execution": {
     "iopub.execute_input": "2022-04-08T17:43:37.427349Z",
     "iopub.status.busy": "2022-04-08T17:43:37.426699Z",
     "iopub.status.idle": "2022-04-08T17:43:37.432093Z",
     "shell.execute_reply": "2022-04-08T17:43:37.432643Z",
     "shell.execute_reply.started": "2021-11-22T03:36:17.793035Z"
    },
    "executionInfo": {
     "elapsed": 627,
     "status": "ok",
     "timestamp": 1637546852454,
     "user": {
      "displayName": "Harsh Pimpalkar",
      "photoUrl": "https://lh3.googleusercontent.com/a/default-user=s64",
      "userId": "00943371497075099378"
     },
     "user_tz": -330
    },
    "id": "zQSK83D7ZXhy",
    "outputId": "4913f5b0-70a3-46cb-f712-cffb6de1781d",
    "papermill": {
     "duration": 0.130992,
     "end_time": "2022-04-08T17:43:37.432820",
     "exception": false,
     "start_time": "2022-04-08T17:43:37.301828",
     "status": "completed"
    },
    "tags": []
   },
   "outputs": [
    {
     "data": {
      "text/plain": [
       "((18598, 8), (4650, 8), (18598,), (4650,))"
      ]
     },
     "execution_count": 67,
     "metadata": {},
     "output_type": "execute_result"
    }
   ],
   "source": [
    "x_train.shape, x_test.shape, y_train.shape, y_test.shape"
   ]
  },
  {
   "cell_type": "markdown",
   "id": "ae29b0f0",
   "metadata": {
    "id": "wSVFxtGdZhOd",
    "papermill": {
     "duration": 0.120764,
     "end_time": "2022-04-08T17:43:37.674927",
     "exception": false,
     "start_time": "2022-04-08T17:43:37.554163",
     "status": "completed"
    },
    "tags": []
   },
   "source": [
    "## **Linear Regression**"
   ]
  },
  {
   "cell_type": "code",
   "execution_count": 68,
   "id": "ed7af2fb",
   "metadata": {
    "execution": {
     "iopub.execute_input": "2022-04-08T17:43:37.921947Z",
     "iopub.status.busy": "2022-04-08T17:43:37.921211Z",
     "iopub.status.idle": "2022-04-08T17:43:38.018571Z",
     "shell.execute_reply": "2022-04-08T17:43:38.019461Z",
     "shell.execute_reply.started": "2021-11-22T03:36:17.799725Z"
    },
    "executionInfo": {
     "elapsed": 823,
     "status": "ok",
     "timestamp": 1637546958536,
     "user": {
      "displayName": "Harsh Pimpalkar",
      "photoUrl": "https://lh3.googleusercontent.com/a/default-user=s64",
      "userId": "00943371497075099378"
     },
     "user_tz": -330
    },
    "id": "9GNXPlq-ZfOy",
    "outputId": "9af23358-55aa-4580-e7c7-f517dc8a7c02",
    "papermill": {
     "duration": 0.223512,
     "end_time": "2022-04-08T17:43:38.019761",
     "exception": false,
     "start_time": "2022-04-08T17:43:37.796249",
     "status": "completed"
    },
    "scrolled": true,
    "tags": []
   },
   "outputs": [
    {
     "data": {
      "text/html": [
       "<style>#sk-container-id-1 {color: black;background-color: white;}#sk-container-id-1 pre{padding: 0;}#sk-container-id-1 div.sk-toggleable {background-color: white;}#sk-container-id-1 label.sk-toggleable__label {cursor: pointer;display: block;width: 100%;margin-bottom: 0;padding: 0.3em;box-sizing: border-box;text-align: center;}#sk-container-id-1 label.sk-toggleable__label-arrow:before {content: \"▸\";float: left;margin-right: 0.25em;color: #696969;}#sk-container-id-1 label.sk-toggleable__label-arrow:hover:before {color: black;}#sk-container-id-1 div.sk-estimator:hover label.sk-toggleable__label-arrow:before {color: black;}#sk-container-id-1 div.sk-toggleable__content {max-height: 0;max-width: 0;overflow: hidden;text-align: left;background-color: #f0f8ff;}#sk-container-id-1 div.sk-toggleable__content pre {margin: 0.2em;color: black;border-radius: 0.25em;background-color: #f0f8ff;}#sk-container-id-1 input.sk-toggleable__control:checked~div.sk-toggleable__content {max-height: 200px;max-width: 100%;overflow: auto;}#sk-container-id-1 input.sk-toggleable__control:checked~label.sk-toggleable__label-arrow:before {content: \"▾\";}#sk-container-id-1 div.sk-estimator input.sk-toggleable__control:checked~label.sk-toggleable__label {background-color: #d4ebff;}#sk-container-id-1 div.sk-label input.sk-toggleable__control:checked~label.sk-toggleable__label {background-color: #d4ebff;}#sk-container-id-1 input.sk-hidden--visually {border: 0;clip: rect(1px 1px 1px 1px);clip: rect(1px, 1px, 1px, 1px);height: 1px;margin: -1px;overflow: hidden;padding: 0;position: absolute;width: 1px;}#sk-container-id-1 div.sk-estimator {font-family: monospace;background-color: #f0f8ff;border: 1px dotted black;border-radius: 0.25em;box-sizing: border-box;margin-bottom: 0.5em;}#sk-container-id-1 div.sk-estimator:hover {background-color: #d4ebff;}#sk-container-id-1 div.sk-parallel-item::after {content: \"\";width: 100%;border-bottom: 1px solid gray;flex-grow: 1;}#sk-container-id-1 div.sk-label:hover label.sk-toggleable__label {background-color: #d4ebff;}#sk-container-id-1 div.sk-serial::before {content: \"\";position: absolute;border-left: 1px solid gray;box-sizing: border-box;top: 0;bottom: 0;left: 50%;z-index: 0;}#sk-container-id-1 div.sk-serial {display: flex;flex-direction: column;align-items: center;background-color: white;padding-right: 0.2em;padding-left: 0.2em;position: relative;}#sk-container-id-1 div.sk-item {position: relative;z-index: 1;}#sk-container-id-1 div.sk-parallel {display: flex;align-items: stretch;justify-content: center;background-color: white;position: relative;}#sk-container-id-1 div.sk-item::before, #sk-container-id-1 div.sk-parallel-item::before {content: \"\";position: absolute;border-left: 1px solid gray;box-sizing: border-box;top: 0;bottom: 0;left: 50%;z-index: -1;}#sk-container-id-1 div.sk-parallel-item {display: flex;flex-direction: column;z-index: 1;position: relative;background-color: white;}#sk-container-id-1 div.sk-parallel-item:first-child::after {align-self: flex-end;width: 50%;}#sk-container-id-1 div.sk-parallel-item:last-child::after {align-self: flex-start;width: 50%;}#sk-container-id-1 div.sk-parallel-item:only-child::after {width: 0;}#sk-container-id-1 div.sk-dashed-wrapped {border: 1px dashed gray;margin: 0 0.4em 0.5em 0.4em;box-sizing: border-box;padding-bottom: 0.4em;background-color: white;}#sk-container-id-1 div.sk-label label {font-family: monospace;font-weight: bold;display: inline-block;line-height: 1.2em;}#sk-container-id-1 div.sk-label-container {text-align: center;}#sk-container-id-1 div.sk-container {/* jupyter's `normalize.less` sets `[hidden] { display: none; }` but bootstrap.min.css set `[hidden] { display: none !important; }` so we also need the `!important` here to be able to override the default hidden behavior on the sphinx rendered scikit-learn.org. See: https://github.com/scikit-learn/scikit-learn/issues/21755 */display: inline-block !important;position: relative;}#sk-container-id-1 div.sk-text-repr-fallback {display: none;}</style><div id=\"sk-container-id-1\" class=\"sk-top-container\"><div class=\"sk-text-repr-fallback\"><pre>LinearRegression()</pre><b>In a Jupyter environment, please rerun this cell to show the HTML representation or trust the notebook. <br />On GitHub, the HTML representation is unable to render, please try loading this page with nbviewer.org.</b></div><div class=\"sk-container\" hidden><div class=\"sk-item\"><div class=\"sk-estimator sk-toggleable\"><input class=\"sk-toggleable__control sk-hidden--visually\" id=\"sk-estimator-id-1\" type=\"checkbox\" checked><label for=\"sk-estimator-id-1\" class=\"sk-toggleable__label sk-toggleable__label-arrow\">LinearRegression</label><div class=\"sk-toggleable__content\"><pre>LinearRegression()</pre></div></div></div></div></div>"
      ],
      "text/plain": [
       "LinearRegression()"
      ]
     },
     "execution_count": 68,
     "metadata": {},
     "output_type": "execute_result"
    }
   ],
   "source": [
    "from sklearn.linear_model import LinearRegression\n",
    "\n",
    "lr_model = LinearRegression()\n",
    "lr_model.fit(x_train,y_train)"
   ]
  },
  {
   "cell_type": "code",
   "execution_count": 69,
   "id": "563e5cb4",
   "metadata": {
    "execution": {
     "iopub.execute_input": "2022-04-08T17:43:38.273316Z",
     "iopub.status.busy": "2022-04-08T17:43:38.272237Z",
     "iopub.status.idle": "2022-04-08T17:43:38.286212Z",
     "shell.execute_reply": "2022-04-08T17:43:38.287091Z",
     "shell.execute_reply.started": "2021-11-22T03:36:17.844465Z"
    },
    "executionInfo": {
     "elapsed": 650,
     "status": "ok",
     "timestamp": 1637547062814,
     "user": {
      "displayName": "Harsh Pimpalkar",
      "photoUrl": "https://lh3.googleusercontent.com/a/default-user=s64",
      "userId": "00943371497075099378"
     },
     "user_tz": -330
    },
    "id": "k25RcQEnZpON",
    "outputId": "2861bd08-aa94-41d2-9ed9-26dfe2bf3499",
    "papermill": {
     "duration": 0.139406,
     "end_time": "2022-04-08T17:43:38.287378",
     "exception": false,
     "start_time": "2022-04-08T17:43:38.147972",
     "status": "completed"
    },
    "tags": []
   },
   "outputs": [
    {
     "data": {
      "text/plain": [
       "0.21980984975680595"
      ]
     },
     "execution_count": 69,
     "metadata": {},
     "output_type": "execute_result"
    }
   ],
   "source": [
    "from sklearn.metrics import r2_score\n",
    "y_pred = lr_model.predict(x_test)\n",
    "r2_score(y_test,y_pred)"
   ]
  },
  {
   "cell_type": "markdown",
   "id": "31a5abe0",
   "metadata": {
    "id": "gUSgPI_2agcQ",
    "papermill": {
     "duration": 0.179051,
     "end_time": "2022-04-08T17:43:38.639732",
     "exception": false,
     "start_time": "2022-04-08T17:43:38.460681",
     "status": "completed"
    },
    "tags": []
   },
   "source": [
    "## **Random Forest**"
   ]
  },
  {
   "cell_type": "code",
   "execution_count": 70,
   "id": "07065a03",
   "metadata": {},
   "outputs": [
    {
     "data": {
      "text/html": [
       "<style>#sk-container-id-2 {color: black;background-color: white;}#sk-container-id-2 pre{padding: 0;}#sk-container-id-2 div.sk-toggleable {background-color: white;}#sk-container-id-2 label.sk-toggleable__label {cursor: pointer;display: block;width: 100%;margin-bottom: 0;padding: 0.3em;box-sizing: border-box;text-align: center;}#sk-container-id-2 label.sk-toggleable__label-arrow:before {content: \"▸\";float: left;margin-right: 0.25em;color: #696969;}#sk-container-id-2 label.sk-toggleable__label-arrow:hover:before {color: black;}#sk-container-id-2 div.sk-estimator:hover label.sk-toggleable__label-arrow:before {color: black;}#sk-container-id-2 div.sk-toggleable__content {max-height: 0;max-width: 0;overflow: hidden;text-align: left;background-color: #f0f8ff;}#sk-container-id-2 div.sk-toggleable__content pre {margin: 0.2em;color: black;border-radius: 0.25em;background-color: #f0f8ff;}#sk-container-id-2 input.sk-toggleable__control:checked~div.sk-toggleable__content {max-height: 200px;max-width: 100%;overflow: auto;}#sk-container-id-2 input.sk-toggleable__control:checked~label.sk-toggleable__label-arrow:before {content: \"▾\";}#sk-container-id-2 div.sk-estimator input.sk-toggleable__control:checked~label.sk-toggleable__label {background-color: #d4ebff;}#sk-container-id-2 div.sk-label input.sk-toggleable__control:checked~label.sk-toggleable__label {background-color: #d4ebff;}#sk-container-id-2 input.sk-hidden--visually {border: 0;clip: rect(1px 1px 1px 1px);clip: rect(1px, 1px, 1px, 1px);height: 1px;margin: -1px;overflow: hidden;padding: 0;position: absolute;width: 1px;}#sk-container-id-2 div.sk-estimator {font-family: monospace;background-color: #f0f8ff;border: 1px dotted black;border-radius: 0.25em;box-sizing: border-box;margin-bottom: 0.5em;}#sk-container-id-2 div.sk-estimator:hover {background-color: #d4ebff;}#sk-container-id-2 div.sk-parallel-item::after {content: \"\";width: 100%;border-bottom: 1px solid gray;flex-grow: 1;}#sk-container-id-2 div.sk-label:hover label.sk-toggleable__label {background-color: #d4ebff;}#sk-container-id-2 div.sk-serial::before {content: \"\";position: absolute;border-left: 1px solid gray;box-sizing: border-box;top: 0;bottom: 0;left: 50%;z-index: 0;}#sk-container-id-2 div.sk-serial {display: flex;flex-direction: column;align-items: center;background-color: white;padding-right: 0.2em;padding-left: 0.2em;position: relative;}#sk-container-id-2 div.sk-item {position: relative;z-index: 1;}#sk-container-id-2 div.sk-parallel {display: flex;align-items: stretch;justify-content: center;background-color: white;position: relative;}#sk-container-id-2 div.sk-item::before, #sk-container-id-2 div.sk-parallel-item::before {content: \"\";position: absolute;border-left: 1px solid gray;box-sizing: border-box;top: 0;bottom: 0;left: 50%;z-index: -1;}#sk-container-id-2 div.sk-parallel-item {display: flex;flex-direction: column;z-index: 1;position: relative;background-color: white;}#sk-container-id-2 div.sk-parallel-item:first-child::after {align-self: flex-end;width: 50%;}#sk-container-id-2 div.sk-parallel-item:last-child::after {align-self: flex-start;width: 50%;}#sk-container-id-2 div.sk-parallel-item:only-child::after {width: 0;}#sk-container-id-2 div.sk-dashed-wrapped {border: 1px dashed gray;margin: 0 0.4em 0.5em 0.4em;box-sizing: border-box;padding-bottom: 0.4em;background-color: white;}#sk-container-id-2 div.sk-label label {font-family: monospace;font-weight: bold;display: inline-block;line-height: 1.2em;}#sk-container-id-2 div.sk-label-container {text-align: center;}#sk-container-id-2 div.sk-container {/* jupyter's `normalize.less` sets `[hidden] { display: none; }` but bootstrap.min.css set `[hidden] { display: none !important; }` so we also need the `!important` here to be able to override the default hidden behavior on the sphinx rendered scikit-learn.org. See: https://github.com/scikit-learn/scikit-learn/issues/21755 */display: inline-block !important;position: relative;}#sk-container-id-2 div.sk-text-repr-fallback {display: none;}</style><div id=\"sk-container-id-2\" class=\"sk-top-container\"><div class=\"sk-text-repr-fallback\"><pre>RandomForestRegressor()</pre><b>In a Jupyter environment, please rerun this cell to show the HTML representation or trust the notebook. <br />On GitHub, the HTML representation is unable to render, please try loading this page with nbviewer.org.</b></div><div class=\"sk-container\" hidden><div class=\"sk-item\"><div class=\"sk-estimator sk-toggleable\"><input class=\"sk-toggleable__control sk-hidden--visually\" id=\"sk-estimator-id-2\" type=\"checkbox\" checked><label for=\"sk-estimator-id-2\" class=\"sk-toggleable__label sk-toggleable__label-arrow\">RandomForestRegressor</label><div class=\"sk-toggleable__content\"><pre>RandomForestRegressor()</pre></div></div></div></div></div>"
      ],
      "text/plain": [
       "RandomForestRegressor()"
      ]
     },
     "execution_count": 70,
     "metadata": {},
     "output_type": "execute_result"
    }
   ],
   "source": [
    "from sklearn.ensemble import RandomForestRegressor\n",
    "rf_model = RandomForestRegressor()\n",
    "rf_model.fit(x_train,y_train)"
   ]
  },
  {
   "cell_type": "code",
   "execution_count": 71,
   "id": "ddd152d9",
   "metadata": {
    "execution": {
     "iopub.execute_input": "2022-04-08T17:43:44.709230Z",
     "iopub.status.busy": "2022-04-08T17:43:44.708150Z",
     "iopub.status.idle": "2022-04-08T17:43:44.827599Z",
     "shell.execute_reply": "2022-04-08T17:43:44.828118Z",
     "shell.execute_reply.started": "2021-11-22T03:36:23.361119Z"
    },
    "executionInfo": {
     "elapsed": 1035,
     "status": "ok",
     "timestamp": 1637547248945,
     "user": {
      "displayName": "Harsh Pimpalkar",
      "photoUrl": "https://lh3.googleusercontent.com/a/default-user=s64",
      "userId": "00943371497075099378"
     },
     "user_tz": -330
    },
    "id": "_migqmgpayYJ",
    "outputId": "2b271555-7803-4a1b-d8ae-d7e7d4749347",
    "papermill": {
     "duration": 0.25128,
     "end_time": "2022-04-08T17:43:44.828294",
     "exception": false,
     "start_time": "2022-04-08T17:43:44.577014",
     "status": "completed"
    },
    "tags": []
   },
   "outputs": [
    {
     "data": {
      "text/plain": [
       "0.9191645008276367"
      ]
     },
     "execution_count": 71,
     "metadata": {},
     "output_type": "execute_result"
    }
   ],
   "source": [
    "y_preds = rf_model.predict(x_test)\n",
    "r2_score(y_test,y_preds)"
   ]
  },
  {
   "cell_type": "markdown",
   "id": "5a63c689",
   "metadata": {
    "id": "qjeIp6zrbxX9",
    "papermill": {
     "duration": 0.127471,
     "end_time": "2022-04-08T17:43:48.723491",
     "exception": false,
     "start_time": "2022-04-08T17:43:48.596020",
     "status": "completed"
    },
    "tags": []
   },
   "source": [
    "Random Forest Regressor gives us the best model"
   ]
  }
 ],
 "metadata": {
  "kernelspec": {
   "display_name": "Python 3 (ipykernel)",
   "language": "python",
   "name": "python3"
  },
  "language_info": {
   "codemirror_mode": {
    "name": "ipython",
    "version": 3
   },
   "file_extension": ".py",
   "mimetype": "text/x-python",
   "name": "python",
   "nbconvert_exporter": "python",
   "pygments_lexer": "ipython3",
   "version": "3.10.9"
  },
  "papermill": {
   "default_parameters": {},
   "duration": 69.077754,
   "end_time": "2022-04-08T17:43:50.535353",
   "environment_variables": {},
   "exception": null,
   "input_path": "__notebook__.ipynb",
   "output_path": "__notebook__.ipynb",
   "parameters": {},
   "start_time": "2022-04-08T17:42:41.457599",
   "version": "2.3.3"
  }
 },
 "nbformat": 4,
 "nbformat_minor": 5
}
